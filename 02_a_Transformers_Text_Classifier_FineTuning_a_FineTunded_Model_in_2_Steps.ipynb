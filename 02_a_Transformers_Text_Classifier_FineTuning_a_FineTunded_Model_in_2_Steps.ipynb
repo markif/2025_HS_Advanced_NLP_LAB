{
 "cells": [
  {
   "cell_type": "markdown",
   "metadata": {},
   "source": [
    "<img align=\"right\" width=\"400\" src=\"https://drive.google.com/thumbnail?id=1rPeHEqFWHJcauZlU82a4hXM10TUjmHxM&sz=s4000\" alt=\"FHNW Logo\">\n",
    "\n",
    "\n",
    "\n",
    "# Transformers Fine Tuning\n",
    "\n",
    "by Fabian Märki\n",
    "\n",
    "## Summary\n",
    "The aim of this notebook is to show how to further fine tune a pretrained model for sequence classification (the model has been fine tuned for a similar task already). In a first round, only the newly added classification head is trained (all other layers are frozen - the idea is to adjust the class vectors of the classification head to the pretrained feature extractor). In a second round, the complete model is trained (by unfreezing all layers).   \n",
    "\n",
    "\n",
    "## Links\n",
    "- [Fine-tune a pretrained model](https://huggingface.co/docs/transformers/training)\n",
    "- [Course](https://huggingface.co/course/chapter1) on how to use Huggingface's transformer models (from simple using pipelines to complex implementing the training loop).\n",
    "- [Notebooks](https://huggingface.co/docs/transformers/notebooks) on different topics (fine tuning, translation, summarization, question answering, audio classification, image classification etc.)\n",
    "\n",
    "This notebook contains assigments: <font color='red'>Questions are written in red.</font>\n",
    "\n",
    "<a href=\"https://colab.research.google.com/github/markif/2025_HS_Advanced_NLP_LAB/blob/master/02_a_Transformers_Text_Classifier_FineTuning_a_FineTunded_Model_in_2_Steps.ipynb\">\n",
    "  <img align=\"left\" src=\"https://colab.research.google.com/assets/colab-badge.svg\" alt=\"Open In Colab\"/>\n",
    "</a>"
   ]
  },
  {
   "cell_type": "markdown",
   "metadata": {},
   "source": [
    "<font color='red'>**TASK: Go through [these slides](https://drive.switch.ch/index.php/s/H5t31sTaqi4Op1o) to get an intuition on the classification task.**</font>"
   ]
  },
  {
   "cell_type": "code",
   "execution_count": 1,
   "metadata": {},
   "outputs": [],
   "source": [
    "%%capture\n",
    "\n",
    "!pip install 'fhnw-nlp-utils>=0.11.0,<0.12.0'\n",
    "\n",
    "from fhnw.nlp.utils.storage import download\n",
    "from fhnw.nlp.utils.storage import load_dataframe\n",
    "\n",
    "import pandas as pd\n",
    "import numpy as np"
   ]
  },
  {
   "cell_type": "markdown",
   "metadata": {},
   "source": [
    "**Make sure that a GPU is available (see [here](https://www.tutorialspoint.com/google_colab/google_colab_using_free_gpu.htm))!!!**"
   ]
  },
  {
   "cell_type": "code",
   "execution_count": 2,
   "metadata": {},
   "outputs": [
    {
     "name": "stdout",
     "output_type": "stream",
     "text": [
      "OS name: posix\n",
      "Platform name: Linux\n",
      "Platform release: 6.14.0-33-generic\n",
      "Python version: 3.11.13\n",
      "CPU cores: 6\n",
      "RAM: 31.11GB total and 23.86GB available\n",
      "GPU is a NVIDIA GeForce RTX 2070 with Max-Q Design with 7967MB\n",
      "Torch version: 2.8.0+cu128\n",
      "Tensorflow version: 2.20.0\n"
     ]
    }
   ],
   "source": [
    "from fhnw.nlp.utils.system import set_log_level\n",
    "from fhnw.nlp.utils.system import system_info\n",
    "\n",
    "set_log_level()\n",
    "print(system_info())"
   ]
  },
  {
   "cell_type": "code",
   "execution_count": 3,
   "metadata": {},
   "outputs": [
    {
     "name": "stdout",
     "output_type": "stream",
     "text": [
      "CPU times: user 4.84 s, sys: 772 ms, total: 5.61 s\n",
      "Wall time: 3.31 s\n"
     ]
    }
   ],
   "source": [
    "%%time\n",
    "download(\"https://drive.switch.ch/index.php/s/0hE8wO4FbfGIJld/download\", \"data/german_doctor_reviews_tokenized.parq\")\n",
    "data = load_dataframe(\"data/german_doctor_reviews_tokenized.parq\")"
   ]
  },
  {
   "cell_type": "code",
   "execution_count": 4,
   "metadata": {},
   "outputs": [
    {
     "data": {
      "text/plain": [
       "(331197, 9)"
      ]
     },
     "execution_count": 4,
     "metadata": {},
     "output_type": "execute_result"
    }
   ],
   "source": [
    "# remove all neutral sentimens - make it to a binary classification task\n",
    "data = data.loc[(data[\"label\"] != \"neutral\")]\n",
    "data.shape"
   ]
  },
  {
   "cell_type": "code",
   "execution_count": 5,
   "metadata": {},
   "outputs": [
    {
     "data": {
      "text/html": [
       "<div>\n",
       "<style scoped>\n",
       "    .dataframe tbody tr th:only-of-type {\n",
       "        vertical-align: middle;\n",
       "    }\n",
       "\n",
       "    .dataframe tbody tr th {\n",
       "        vertical-align: top;\n",
       "    }\n",
       "\n",
       "    .dataframe thead th {\n",
       "        text-align: right;\n",
       "    }\n",
       "</style>\n",
       "<table border=\"1\" class=\"dataframe\">\n",
       "  <thead>\n",
       "    <tr style=\"text-align: right;\">\n",
       "      <th></th>\n",
       "      <th>text_original</th>\n",
       "      <th>rating</th>\n",
       "      <th>text</th>\n",
       "      <th>label</th>\n",
       "      <th>sentiment</th>\n",
       "      <th>token_clean</th>\n",
       "      <th>text_clean</th>\n",
       "      <th>token_stem</th>\n",
       "      <th>token_clean_stopwords</th>\n",
       "    </tr>\n",
       "  </thead>\n",
       "  <tbody>\n",
       "    <tr>\n",
       "      <th>0</th>\n",
       "      <td>Ich bin franzose und bin seit ein paar Wochen ...</td>\n",
       "      <td>2.0</td>\n",
       "      <td>Ich bin franzose und bin seit ein paar Wochen ...</td>\n",
       "      <td>positive</td>\n",
       "      <td>1</td>\n",
       "      <td>[ich, bin, franzose, und, bin, seit, ein, paar...</td>\n",
       "      <td>ich bin franzose und bin seit ein paar wochen ...</td>\n",
       "      <td>[franzos, seit, paar, woch, muench, zahn, schm...</td>\n",
       "      <td>[franzose, seit, paar, wochen, muenchen, zahn,...</td>\n",
       "    </tr>\n",
       "    <tr>\n",
       "      <th>1</th>\n",
       "      <td>Dieser Arzt ist das unmöglichste was mir in me...</td>\n",
       "      <td>6.0</td>\n",
       "      <td>Dieser Arzt ist das unmöglichste was mir in me...</td>\n",
       "      <td>negative</td>\n",
       "      <td>-1</td>\n",
       "      <td>[dieser, arzt, ist, das, unmöglichste, was, mi...</td>\n",
       "      <td>dieser arzt ist das unmöglichste was mir in me...</td>\n",
       "      <td>[arzt, unmog, leb, je, begegnet, unfreund, her...</td>\n",
       "      <td>[arzt, unmöglichste, leben, je, begegnet, unfr...</td>\n",
       "    </tr>\n",
       "    <tr>\n",
       "      <th>2</th>\n",
       "      <td>Hatte akute Beschwerden am Rücken. Herr Magura...</td>\n",
       "      <td>1.0</td>\n",
       "      <td>Hatte akute Beschwerden am Rücken. Herr Magura...</td>\n",
       "      <td>positive</td>\n",
       "      <td>1</td>\n",
       "      <td>[hatte, akute, beschwerden, am, rücken, ., her...</td>\n",
       "      <td>hatte akute beschwerden am rücken . herr magur...</td>\n",
       "      <td>[akut, beschwerd, ruck, magura, erst, arzt, wi...</td>\n",
       "      <td>[akute, beschwerden, rücken, magura, erste, ar...</td>\n",
       "    </tr>\n",
       "  </tbody>\n",
       "</table>\n",
       "</div>"
      ],
      "text/plain": [
       "                                       text_original  rating  \\\n",
       "0  Ich bin franzose und bin seit ein paar Wochen ...     2.0   \n",
       "1  Dieser Arzt ist das unmöglichste was mir in me...     6.0   \n",
       "2  Hatte akute Beschwerden am Rücken. Herr Magura...     1.0   \n",
       "\n",
       "                                                text     label  sentiment  \\\n",
       "0  Ich bin franzose und bin seit ein paar Wochen ...  positive          1   \n",
       "1  Dieser Arzt ist das unmöglichste was mir in me...  negative         -1   \n",
       "2  Hatte akute Beschwerden am Rücken. Herr Magura...  positive          1   \n",
       "\n",
       "                                         token_clean  \\\n",
       "0  [ich, bin, franzose, und, bin, seit, ein, paar...   \n",
       "1  [dieser, arzt, ist, das, unmöglichste, was, mi...   \n",
       "2  [hatte, akute, beschwerden, am, rücken, ., her...   \n",
       "\n",
       "                                          text_clean  \\\n",
       "0  ich bin franzose und bin seit ein paar wochen ...   \n",
       "1  dieser arzt ist das unmöglichste was mir in me...   \n",
       "2  hatte akute beschwerden am rücken . herr magur...   \n",
       "\n",
       "                                          token_stem  \\\n",
       "0  [franzos, seit, paar, woch, muench, zahn, schm...   \n",
       "1  [arzt, unmog, leb, je, begegnet, unfreund, her...   \n",
       "2  [akut, beschwerd, ruck, magura, erst, arzt, wi...   \n",
       "\n",
       "                               token_clean_stopwords  \n",
       "0  [franzose, seit, paar, wochen, muenchen, zahn,...  \n",
       "1  [arzt, unmöglichste, leben, je, begegnet, unfr...  \n",
       "2  [akute, beschwerden, rücken, magura, erste, ar...  "
      ]
     },
     "execution_count": 5,
     "metadata": {},
     "output_type": "execute_result"
    }
   ],
   "source": [
    "data.head(3)"
   ]
  },
  {
   "cell_type": "code",
   "execution_count": 6,
   "metadata": {},
   "outputs": [],
   "source": [
    "%%capture\n",
    "\n",
    "!pip install torch\n",
    "!pip install transformers\n",
    "!pip install datasets\n",
    "!pip install evaluate\n",
    "!pip install accelerate"
   ]
  },
  {
   "cell_type": "code",
   "execution_count": 7,
   "metadata": {},
   "outputs": [],
   "source": [
    "from fhnw.nlp.utils.transformers import dataframes_to_dataset\n",
    "from fhnw.nlp.utils.transformers import get_compute_device"
   ]
  },
  {
   "cell_type": "markdown",
   "metadata": {},
   "source": [
    "<font color='red'>**TASK: Go to the [Huggingface models](https://huggingface.co/models?pipeline_tag=text-classification&language=de&sort=trending&search=sentiment) page and search for a pretrained model that fits this task (think about suitable filters).**</font>\n",
    "\n",
    "<font color='red'>**You might want to try a different model...**</font>"
   ]
  },
  {
   "cell_type": "code",
   "execution_count": 8,
   "metadata": {},
   "outputs": [],
   "source": [
    "params = {\n",
    "    # modify batch_size in case you experience memory issues\n",
    "    \"batch_size\": 8,\n",
    "    \"X_column_name\": \"text\",\n",
    "    \"y_column_name\": \"label\",\n",
    "    \"compute_device\": get_compute_device(),\n",
    "    # see https://huggingface.co/philschmid/distilbert-base-multilingual-cased-sentiment-2/tree/main\n",
    "    \"transformers_model_name\": \"philschmid/distilbert-base-multilingual-cased-sentiment-2\",\n",
    "}"
   ]
  },
  {
   "cell_type": "code",
   "execution_count": 9,
   "metadata": {},
   "outputs": [
    {
     "data": {
      "application/vnd.jupyter.widget-view+json": {
       "model_id": "442426ac58844598bc0d8d34d9b6756c",
       "version_major": 2,
       "version_minor": 0
      },
      "text/plain": [
       "Casting the dataset:   0%|          | 0/198718 [00:00<?, ? examples/s]"
      ]
     },
     "metadata": {},
     "output_type": "display_data"
    },
    {
     "data": {
      "application/vnd.jupyter.widget-view+json": {
       "model_id": "eea7dffabdf34a3f98532bcefe6ad356",
       "version_major": 2,
       "version_minor": 0
      },
      "text/plain": [
       "Casting the dataset:   0%|          | 0/66239 [00:00<?, ? examples/s]"
      ]
     },
     "metadata": {},
     "output_type": "display_data"
    },
    {
     "data": {
      "application/vnd.jupyter.widget-view+json": {
       "model_id": "7423bb1709a44320820c264b5e5ca936",
       "version_major": 2,
       "version_minor": 0
      },
      "text/plain": [
       "Casting the dataset:   0%|          | 0/66240 [00:00<?, ? examples/s]"
      ]
     },
     "metadata": {},
     "output_type": "display_data"
    }
   ],
   "source": [
    "datasets = dataframes_to_dataset(params, data)"
   ]
  },
  {
   "cell_type": "markdown",
   "metadata": {},
   "source": [
    "Changing max_length (to e.g. `input_sequence_length` or even smaller) can greatly speedup training and can even help to converge training."
   ]
  },
  {
   "cell_type": "code",
   "execution_count": 10,
   "metadata": {},
   "outputs": [
    {
     "data": {
      "application/vnd.jupyter.widget-view+json": {
       "model_id": "852fa529e6944acba550afd37fd665a8",
       "version_major": 2,
       "version_minor": 0
      },
      "text/plain": [
       "Map:   0%|          | 0/198718 [00:00<?, ? examples/s]"
      ]
     },
     "metadata": {},
     "output_type": "display_data"
    },
    {
     "data": {
      "application/vnd.jupyter.widget-view+json": {
       "model_id": "35d78f3e56284c3e8c1efe7368a4432e",
       "version_major": 2,
       "version_minor": 0
      },
      "text/plain": [
       "Map:   0%|          | 0/66240 [00:00<?, ? examples/s]"
      ]
     },
     "metadata": {},
     "output_type": "display_data"
    },
    {
     "data": {
      "application/vnd.jupyter.widget-view+json": {
       "model_id": "f3d8d8d0a3704ffebf3967ba0fb732d7",
       "version_major": 2,
       "version_minor": 0
      },
      "text/plain": [
       "Map:   0%|          | 0/66239 [00:00<?, ? examples/s]"
      ]
     },
     "metadata": {},
     "output_type": "display_data"
    }
   ],
   "source": [
    "from transformers import AutoTokenizer\n",
    "\n",
    "tokenizer = AutoTokenizer.from_pretrained(params[\"transformers_model_name\"])\n",
    "\n",
    "def tokenize_function(examples):\n",
    "    X_column_name = params.get(\"X_column_name\", \"text\")\n",
    "    input_sequence_length = params.get(\"input_sequence_length\", 256)\n",
    "\n",
    "    # see https://huggingface.co/docs/transformers/pad_truncation for more information about the parameters\n",
    "    return tokenizer(\n",
    "        examples[X_column_name], \n",
    "        padding=True,\n",
    "        truncation=True,\n",
    "        max_length=input_sequence_length,\n",
    "    )\n",
    "\n",
    "tokenized_datasets = datasets.map(tokenize_function, batched=True)"
   ]
  },
  {
   "cell_type": "code",
   "execution_count": 11,
   "metadata": {},
   "outputs": [
    {
     "name": "stdout",
     "output_type": "stream",
     "text": [
      "Text:  ['[CLS]', 'Se', '##hr', 'em', '##pha', '##tisch', 'und', 'fac', '##hlich', 'kom', '##pet', '##ent', '[SEP]', '[PAD]', '[PAD]', '[PAD]', '[PAD]', '[PAD]', '[PAD]', '[PAD]', '[PAD]', '[PAD]', '[PAD]', '[PAD]', '[PAD]', '[PAD]', '[PAD]', '[PAD]', '[PAD]', '[PAD]']\n",
      "IDs:  [101, 11045, 16757, 10266, 37590, 29449, 10130, 107159, 76907, 12240, 19094, 11405, 102, 0, 0, 0, 0, 0, 0, 0, 0, 0, 0, 0, 0, 0, 0, 0, 0, 0]\n",
      "CPU times: user 3.56 ms, sys: 24 μs, total: 3.58 ms\n",
      "Wall time: 3.12 ms\n"
     ]
    }
   ],
   "source": [
    "%%time\n",
    "\n",
    "print(\"Text: \", tokenizer.convert_ids_to_tokens(tokenized_datasets[\"test\"][\"input_ids\"][0])[0:30])\n",
    "print(\"IDs: \", tokenized_datasets[\"test\"][\"input_ids\"][0][0:30])"
   ]
  },
  {
   "cell_type": "code",
   "execution_count": 12,
   "metadata": {},
   "outputs": [],
   "source": [
    "# only use a subset of the dataset to speedup training (as this notebook showcases the training task)\n",
    "#train_dataset = tokenized_datasets[\"train\"].shuffle(seed=42).select(range(1000))\n",
    "#eval_dataset = tokenized_datasets[\"test\"].select(range(1000))\n",
    "\n",
    "# use the full dataset\n",
    "train_dataset = tokenized_datasets[\"train\"].shuffle(seed=42)\n",
    "eval_dataset = tokenized_datasets[\"test\"]"
   ]
  },
  {
   "cell_type": "code",
   "execution_count": 13,
   "metadata": {},
   "outputs": [],
   "source": [
    "classlabel = datasets[\"train\"].features[params[\"y_column_name\"]]\n",
    "label2id = { label: classlabel.str2int(label) for label in classlabel.names }\n",
    "id2label = { i: classlabel.int2str(i) for i in label2id.values() }"
   ]
  },
  {
   "cell_type": "markdown",
   "metadata": {},
   "source": [
    "Setup the new labels and adjust the model config."
   ]
  },
  {
   "cell_type": "code",
   "execution_count": 14,
   "metadata": {},
   "outputs": [],
   "source": [
    "from transformers import AutoModelForSequenceClassification\n",
    "\n",
    "model = AutoModelForSequenceClassification.from_pretrained(params[\"transformers_model_name\"])"
   ]
  },
  {
   "cell_type": "markdown",
   "metadata": {},
   "source": [
    "Print the model config to see the labels of the model."
   ]
  },
  {
   "cell_type": "markdown",
   "metadata": {},
   "source": [
    "See also [here](https://github.com/huggingface/transformers/issues/5905) and [here](https://github.com/huggingface/transformers/blob/6e8a38568eb874f31eb49c42285c3a634fca12e7/examples/token-classification/run_ner.py#L146)"
   ]
  },
  {
   "cell_type": "code",
   "execution_count": 15,
   "metadata": {},
   "outputs": [
    {
     "data": {
      "text/plain": [
       "DistilBertConfig {\n",
       "  \"activation\": \"gelu\",\n",
       "  \"architectures\": [\n",
       "    \"DistilBertForSequenceClassification\"\n",
       "  ],\n",
       "  \"attention_dropout\": 0.1,\n",
       "  \"dim\": 768,\n",
       "  \"dropout\": 0.1,\n",
       "  \"dtype\": \"float32\",\n",
       "  \"hidden_dim\": 3072,\n",
       "  \"id2label\": {\n",
       "    \"0\": \"negative\",\n",
       "    \"1\": \"neutral\",\n",
       "    \"2\": \"positive\"\n",
       "  },\n",
       "  \"initializer_range\": 0.02,\n",
       "  \"label2id\": {\n",
       "    \"negative\": \"0\",\n",
       "    \"neutral\": \"1\",\n",
       "    \"positive\": \"2\"\n",
       "  },\n",
       "  \"max_position_embeddings\": 512,\n",
       "  \"model_type\": \"distilbert\",\n",
       "  \"n_heads\": 12,\n",
       "  \"n_layers\": 6,\n",
       "  \"output_past\": true,\n",
       "  \"pad_token_id\": 0,\n",
       "  \"problem_type\": \"single_label_classification\",\n",
       "  \"qa_dropout\": 0.1,\n",
       "  \"seq_classif_dropout\": 0.2,\n",
       "  \"sinusoidal_pos_embds\": false,\n",
       "  \"tie_weights_\": true,\n",
       "  \"transformers_version\": \"4.57.0\",\n",
       "  \"vocab_size\": 119547\n",
       "}"
      ]
     },
     "execution_count": 15,
     "metadata": {},
     "output_type": "execute_result"
    }
   ],
   "source": [
    "model.config"
   ]
  },
  {
   "cell_type": "markdown",
   "metadata": {},
   "source": [
    "Setup the new labels and adjust the model config."
   ]
  },
  {
   "cell_type": "code",
   "execution_count": null,
   "metadata": {},
   "outputs": [],
   "source": []
  },
  {
   "cell_type": "code",
   "execution_count": 16,
   "metadata": {},
   "outputs": [
    {
     "data": {
      "text/plain": [
       "DistilBertConfig {\n",
       "  \"activation\": \"gelu\",\n",
       "  \"architectures\": [\n",
       "    \"DistilBertForSequenceClassification\"\n",
       "  ],\n",
       "  \"attention_dropout\": 0.1,\n",
       "  \"dim\": 768,\n",
       "  \"dropout\": 0.1,\n",
       "  \"dtype\": \"float32\",\n",
       "  \"hidden_dim\": 3072,\n",
       "  \"id2label\": {\n",
       "    \"0\": \"negative\",\n",
       "    \"1\": \"positive\"\n",
       "  },\n",
       "  \"initializer_range\": 0.02,\n",
       "  \"label2id\": {\n",
       "    \"negative\": 0,\n",
       "    \"positive\": 1\n",
       "  },\n",
       "  \"max_position_embeddings\": 512,\n",
       "  \"model_type\": \"distilbert\",\n",
       "  \"n_heads\": 12,\n",
       "  \"n_layers\": 6,\n",
       "  \"output_past\": true,\n",
       "  \"pad_token_id\": 0,\n",
       "  \"problem_type\": \"single_label_classification\",\n",
       "  \"qa_dropout\": 0.1,\n",
       "  \"seq_classif_dropout\": 0.2,\n",
       "  \"sinusoidal_pos_embds\": false,\n",
       "  \"tie_weights_\": true,\n",
       "  \"transformers_version\": \"4.57.0\",\n",
       "  \"vocab_size\": 119547\n",
       "}"
      ]
     },
     "execution_count": 16,
     "metadata": {},
     "output_type": "execute_result"
    }
   ],
   "source": [
    "model.config.num_labels = len(id2label)\n",
    "model.config.id2label = id2label\n",
    "model.config.label2id = label2id\n",
    "\n",
    "model.config"
   ]
  },
  {
   "cell_type": "markdown",
   "metadata": {},
   "source": [
    "Reinitiallize the classification layer to match the number of the new labels (and do not forget to adjust the model's <code>num_labels</code>."
   ]
  },
  {
   "cell_type": "code",
   "execution_count": 17,
   "metadata": {},
   "outputs": [],
   "source": [
    "import torch\n",
    "\n",
    "model.classifier = torch.nn.Linear(in_features=model.classifier.in_features, out_features=model.config.num_labels, bias=True)\n",
    "model.num_labels = model.config.num_labels"
   ]
  },
  {
   "cell_type": "markdown",
   "metadata": {},
   "source": [
    "Check which layers are trained."
   ]
  },
  {
   "cell_type": "code",
   "execution_count": 18,
   "metadata": {},
   "outputs": [
    {
     "name": "stdout",
     "output_type": "stream",
     "text": [
      "distilbert.embeddings.word_embeddings.weight True\n",
      "distilbert.embeddings.position_embeddings.weight True\n",
      "distilbert.embeddings.LayerNorm.weight True\n",
      "distilbert.embeddings.LayerNorm.bias True\n",
      "distilbert.transformer.layer.0.attention.q_lin.weight True\n",
      "distilbert.transformer.layer.0.attention.q_lin.bias True\n",
      "distilbert.transformer.layer.0.attention.k_lin.weight True\n",
      "distilbert.transformer.layer.0.attention.k_lin.bias True\n",
      "distilbert.transformer.layer.0.attention.v_lin.weight True\n",
      "distilbert.transformer.layer.0.attention.v_lin.bias True\n",
      "distilbert.transformer.layer.0.attention.out_lin.weight True\n",
      "distilbert.transformer.layer.0.attention.out_lin.bias True\n",
      "distilbert.transformer.layer.0.sa_layer_norm.weight True\n",
      "distilbert.transformer.layer.0.sa_layer_norm.bias True\n",
      "distilbert.transformer.layer.0.ffn.lin1.weight True\n",
      "distilbert.transformer.layer.0.ffn.lin1.bias True\n",
      "distilbert.transformer.layer.0.ffn.lin2.weight True\n",
      "distilbert.transformer.layer.0.ffn.lin2.bias True\n",
      "distilbert.transformer.layer.0.output_layer_norm.weight True\n",
      "distilbert.transformer.layer.0.output_layer_norm.bias True\n",
      "distilbert.transformer.layer.1.attention.q_lin.weight True\n",
      "distilbert.transformer.layer.1.attention.q_lin.bias True\n",
      "distilbert.transformer.layer.1.attention.k_lin.weight True\n",
      "distilbert.transformer.layer.1.attention.k_lin.bias True\n",
      "distilbert.transformer.layer.1.attention.v_lin.weight True\n",
      "distilbert.transformer.layer.1.attention.v_lin.bias True\n",
      "distilbert.transformer.layer.1.attention.out_lin.weight True\n",
      "distilbert.transformer.layer.1.attention.out_lin.bias True\n",
      "distilbert.transformer.layer.1.sa_layer_norm.weight True\n",
      "distilbert.transformer.layer.1.sa_layer_norm.bias True\n",
      "distilbert.transformer.layer.1.ffn.lin1.weight True\n",
      "distilbert.transformer.layer.1.ffn.lin1.bias True\n",
      "distilbert.transformer.layer.1.ffn.lin2.weight True\n",
      "distilbert.transformer.layer.1.ffn.lin2.bias True\n",
      "distilbert.transformer.layer.1.output_layer_norm.weight True\n",
      "distilbert.transformer.layer.1.output_layer_norm.bias True\n",
      "distilbert.transformer.layer.2.attention.q_lin.weight True\n",
      "distilbert.transformer.layer.2.attention.q_lin.bias True\n",
      "distilbert.transformer.layer.2.attention.k_lin.weight True\n",
      "distilbert.transformer.layer.2.attention.k_lin.bias True\n",
      "distilbert.transformer.layer.2.attention.v_lin.weight True\n",
      "distilbert.transformer.layer.2.attention.v_lin.bias True\n",
      "distilbert.transformer.layer.2.attention.out_lin.weight True\n",
      "distilbert.transformer.layer.2.attention.out_lin.bias True\n",
      "distilbert.transformer.layer.2.sa_layer_norm.weight True\n",
      "distilbert.transformer.layer.2.sa_layer_norm.bias True\n",
      "distilbert.transformer.layer.2.ffn.lin1.weight True\n",
      "distilbert.transformer.layer.2.ffn.lin1.bias True\n",
      "distilbert.transformer.layer.2.ffn.lin2.weight True\n",
      "distilbert.transformer.layer.2.ffn.lin2.bias True\n",
      "distilbert.transformer.layer.2.output_layer_norm.weight True\n",
      "distilbert.transformer.layer.2.output_layer_norm.bias True\n",
      "distilbert.transformer.layer.3.attention.q_lin.weight True\n",
      "distilbert.transformer.layer.3.attention.q_lin.bias True\n",
      "distilbert.transformer.layer.3.attention.k_lin.weight True\n",
      "distilbert.transformer.layer.3.attention.k_lin.bias True\n",
      "distilbert.transformer.layer.3.attention.v_lin.weight True\n",
      "distilbert.transformer.layer.3.attention.v_lin.bias True\n",
      "distilbert.transformer.layer.3.attention.out_lin.weight True\n",
      "distilbert.transformer.layer.3.attention.out_lin.bias True\n",
      "distilbert.transformer.layer.3.sa_layer_norm.weight True\n",
      "distilbert.transformer.layer.3.sa_layer_norm.bias True\n",
      "distilbert.transformer.layer.3.ffn.lin1.weight True\n",
      "distilbert.transformer.layer.3.ffn.lin1.bias True\n",
      "distilbert.transformer.layer.3.ffn.lin2.weight True\n",
      "distilbert.transformer.layer.3.ffn.lin2.bias True\n",
      "distilbert.transformer.layer.3.output_layer_norm.weight True\n",
      "distilbert.transformer.layer.3.output_layer_norm.bias True\n",
      "distilbert.transformer.layer.4.attention.q_lin.weight True\n",
      "distilbert.transformer.layer.4.attention.q_lin.bias True\n",
      "distilbert.transformer.layer.4.attention.k_lin.weight True\n",
      "distilbert.transformer.layer.4.attention.k_lin.bias True\n",
      "distilbert.transformer.layer.4.attention.v_lin.weight True\n",
      "distilbert.transformer.layer.4.attention.v_lin.bias True\n",
      "distilbert.transformer.layer.4.attention.out_lin.weight True\n",
      "distilbert.transformer.layer.4.attention.out_lin.bias True\n",
      "distilbert.transformer.layer.4.sa_layer_norm.weight True\n",
      "distilbert.transformer.layer.4.sa_layer_norm.bias True\n",
      "distilbert.transformer.layer.4.ffn.lin1.weight True\n",
      "distilbert.transformer.layer.4.ffn.lin1.bias True\n",
      "distilbert.transformer.layer.4.ffn.lin2.weight True\n",
      "distilbert.transformer.layer.4.ffn.lin2.bias True\n",
      "distilbert.transformer.layer.4.output_layer_norm.weight True\n",
      "distilbert.transformer.layer.4.output_layer_norm.bias True\n",
      "distilbert.transformer.layer.5.attention.q_lin.weight True\n",
      "distilbert.transformer.layer.5.attention.q_lin.bias True\n",
      "distilbert.transformer.layer.5.attention.k_lin.weight True\n",
      "distilbert.transformer.layer.5.attention.k_lin.bias True\n",
      "distilbert.transformer.layer.5.attention.v_lin.weight True\n",
      "distilbert.transformer.layer.5.attention.v_lin.bias True\n",
      "distilbert.transformer.layer.5.attention.out_lin.weight True\n",
      "distilbert.transformer.layer.5.attention.out_lin.bias True\n",
      "distilbert.transformer.layer.5.sa_layer_norm.weight True\n",
      "distilbert.transformer.layer.5.sa_layer_norm.bias True\n",
      "distilbert.transformer.layer.5.ffn.lin1.weight True\n",
      "distilbert.transformer.layer.5.ffn.lin1.bias True\n",
      "distilbert.transformer.layer.5.ffn.lin2.weight True\n",
      "distilbert.transformer.layer.5.ffn.lin2.bias True\n",
      "distilbert.transformer.layer.5.output_layer_norm.weight True\n",
      "distilbert.transformer.layer.5.output_layer_norm.bias True\n",
      "pre_classifier.weight True\n",
      "pre_classifier.bias True\n",
      "classifier.weight True\n",
      "classifier.bias True\n"
     ]
    }
   ],
   "source": [
    "for name, param in model.named_parameters():\n",
    "     print(name, param.requires_grad)"
   ]
  },
  {
   "cell_type": "markdown",
   "metadata": {},
   "source": [
    "Freeze all weights/biases for training and only allow the classification layer to be trained."
   ]
  },
  {
   "cell_type": "code",
   "execution_count": 19,
   "metadata": {},
   "outputs": [],
   "source": [
    "# freeze weights/bias for training (only train classifier)\n",
    "\n",
    "for name, param in model.named_parameters():\n",
    "     if \"classifier\" not in name: \n",
    "        param.requires_grad = False"
   ]
  },
  {
   "cell_type": "markdown",
   "metadata": {},
   "source": [
    "Double check"
   ]
  },
  {
   "cell_type": "code",
   "execution_count": 20,
   "metadata": {},
   "outputs": [
    {
     "name": "stdout",
     "output_type": "stream",
     "text": [
      "distilbert.embeddings.word_embeddings.weight False\n",
      "distilbert.embeddings.position_embeddings.weight False\n",
      "distilbert.embeddings.LayerNorm.weight False\n",
      "distilbert.embeddings.LayerNorm.bias False\n",
      "distilbert.transformer.layer.0.attention.q_lin.weight False\n",
      "distilbert.transformer.layer.0.attention.q_lin.bias False\n",
      "distilbert.transformer.layer.0.attention.k_lin.weight False\n",
      "distilbert.transformer.layer.0.attention.k_lin.bias False\n",
      "distilbert.transformer.layer.0.attention.v_lin.weight False\n",
      "distilbert.transformer.layer.0.attention.v_lin.bias False\n",
      "distilbert.transformer.layer.0.attention.out_lin.weight False\n",
      "distilbert.transformer.layer.0.attention.out_lin.bias False\n",
      "distilbert.transformer.layer.0.sa_layer_norm.weight False\n",
      "distilbert.transformer.layer.0.sa_layer_norm.bias False\n",
      "distilbert.transformer.layer.0.ffn.lin1.weight False\n",
      "distilbert.transformer.layer.0.ffn.lin1.bias False\n",
      "distilbert.transformer.layer.0.ffn.lin2.weight False\n",
      "distilbert.transformer.layer.0.ffn.lin2.bias False\n",
      "distilbert.transformer.layer.0.output_layer_norm.weight False\n",
      "distilbert.transformer.layer.0.output_layer_norm.bias False\n",
      "distilbert.transformer.layer.1.attention.q_lin.weight False\n",
      "distilbert.transformer.layer.1.attention.q_lin.bias False\n",
      "distilbert.transformer.layer.1.attention.k_lin.weight False\n",
      "distilbert.transformer.layer.1.attention.k_lin.bias False\n",
      "distilbert.transformer.layer.1.attention.v_lin.weight False\n",
      "distilbert.transformer.layer.1.attention.v_lin.bias False\n",
      "distilbert.transformer.layer.1.attention.out_lin.weight False\n",
      "distilbert.transformer.layer.1.attention.out_lin.bias False\n",
      "distilbert.transformer.layer.1.sa_layer_norm.weight False\n",
      "distilbert.transformer.layer.1.sa_layer_norm.bias False\n",
      "distilbert.transformer.layer.1.ffn.lin1.weight False\n",
      "distilbert.transformer.layer.1.ffn.lin1.bias False\n",
      "distilbert.transformer.layer.1.ffn.lin2.weight False\n",
      "distilbert.transformer.layer.1.ffn.lin2.bias False\n",
      "distilbert.transformer.layer.1.output_layer_norm.weight False\n",
      "distilbert.transformer.layer.1.output_layer_norm.bias False\n",
      "distilbert.transformer.layer.2.attention.q_lin.weight False\n",
      "distilbert.transformer.layer.2.attention.q_lin.bias False\n",
      "distilbert.transformer.layer.2.attention.k_lin.weight False\n",
      "distilbert.transformer.layer.2.attention.k_lin.bias False\n",
      "distilbert.transformer.layer.2.attention.v_lin.weight False\n",
      "distilbert.transformer.layer.2.attention.v_lin.bias False\n",
      "distilbert.transformer.layer.2.attention.out_lin.weight False\n",
      "distilbert.transformer.layer.2.attention.out_lin.bias False\n",
      "distilbert.transformer.layer.2.sa_layer_norm.weight False\n",
      "distilbert.transformer.layer.2.sa_layer_norm.bias False\n",
      "distilbert.transformer.layer.2.ffn.lin1.weight False\n",
      "distilbert.transformer.layer.2.ffn.lin1.bias False\n",
      "distilbert.transformer.layer.2.ffn.lin2.weight False\n",
      "distilbert.transformer.layer.2.ffn.lin2.bias False\n",
      "distilbert.transformer.layer.2.output_layer_norm.weight False\n",
      "distilbert.transformer.layer.2.output_layer_norm.bias False\n",
      "distilbert.transformer.layer.3.attention.q_lin.weight False\n",
      "distilbert.transformer.layer.3.attention.q_lin.bias False\n",
      "distilbert.transformer.layer.3.attention.k_lin.weight False\n",
      "distilbert.transformer.layer.3.attention.k_lin.bias False\n",
      "distilbert.transformer.layer.3.attention.v_lin.weight False\n",
      "distilbert.transformer.layer.3.attention.v_lin.bias False\n",
      "distilbert.transformer.layer.3.attention.out_lin.weight False\n",
      "distilbert.transformer.layer.3.attention.out_lin.bias False\n",
      "distilbert.transformer.layer.3.sa_layer_norm.weight False\n",
      "distilbert.transformer.layer.3.sa_layer_norm.bias False\n",
      "distilbert.transformer.layer.3.ffn.lin1.weight False\n",
      "distilbert.transformer.layer.3.ffn.lin1.bias False\n",
      "distilbert.transformer.layer.3.ffn.lin2.weight False\n",
      "distilbert.transformer.layer.3.ffn.lin2.bias False\n",
      "distilbert.transformer.layer.3.output_layer_norm.weight False\n",
      "distilbert.transformer.layer.3.output_layer_norm.bias False\n",
      "distilbert.transformer.layer.4.attention.q_lin.weight False\n",
      "distilbert.transformer.layer.4.attention.q_lin.bias False\n",
      "distilbert.transformer.layer.4.attention.k_lin.weight False\n",
      "distilbert.transformer.layer.4.attention.k_lin.bias False\n",
      "distilbert.transformer.layer.4.attention.v_lin.weight False\n",
      "distilbert.transformer.layer.4.attention.v_lin.bias False\n",
      "distilbert.transformer.layer.4.attention.out_lin.weight False\n",
      "distilbert.transformer.layer.4.attention.out_lin.bias False\n",
      "distilbert.transformer.layer.4.sa_layer_norm.weight False\n",
      "distilbert.transformer.layer.4.sa_layer_norm.bias False\n",
      "distilbert.transformer.layer.4.ffn.lin1.weight False\n",
      "distilbert.transformer.layer.4.ffn.lin1.bias False\n",
      "distilbert.transformer.layer.4.ffn.lin2.weight False\n",
      "distilbert.transformer.layer.4.ffn.lin2.bias False\n",
      "distilbert.transformer.layer.4.output_layer_norm.weight False\n",
      "distilbert.transformer.layer.4.output_layer_norm.bias False\n",
      "distilbert.transformer.layer.5.attention.q_lin.weight False\n",
      "distilbert.transformer.layer.5.attention.q_lin.bias False\n",
      "distilbert.transformer.layer.5.attention.k_lin.weight False\n",
      "distilbert.transformer.layer.5.attention.k_lin.bias False\n",
      "distilbert.transformer.layer.5.attention.v_lin.weight False\n",
      "distilbert.transformer.layer.5.attention.v_lin.bias False\n",
      "distilbert.transformer.layer.5.attention.out_lin.weight False\n",
      "distilbert.transformer.layer.5.attention.out_lin.bias False\n",
      "distilbert.transformer.layer.5.sa_layer_norm.weight False\n",
      "distilbert.transformer.layer.5.sa_layer_norm.bias False\n",
      "distilbert.transformer.layer.5.ffn.lin1.weight False\n",
      "distilbert.transformer.layer.5.ffn.lin1.bias False\n",
      "distilbert.transformer.layer.5.ffn.lin2.weight False\n",
      "distilbert.transformer.layer.5.ffn.lin2.bias False\n",
      "distilbert.transformer.layer.5.output_layer_norm.weight False\n",
      "distilbert.transformer.layer.5.output_layer_norm.bias False\n",
      "pre_classifier.weight True\n",
      "pre_classifier.bias True\n",
      "classifier.weight True\n",
      "classifier.bias True\n"
     ]
    }
   ],
   "source": [
    "for name, param in model.named_parameters():\n",
    "     print(name, param.requires_grad)"
   ]
  },
  {
   "cell_type": "code",
   "execution_count": 21,
   "metadata": {},
   "outputs": [],
   "source": [
    "import numpy as np\n",
    "import evaluate\n",
    "\n",
    "#metric = evaluate.load(\"accuracy\")\n",
    "metric = evaluate.combine([\"accuracy\", \"recall\", \"precision\", \"f1\"])"
   ]
  },
  {
   "cell_type": "code",
   "execution_count": 22,
   "metadata": {},
   "outputs": [],
   "source": [
    "def compute_metrics(eval_pred):\n",
    "    logits, labels = eval_pred\n",
    "    predictions = np.argmax(logits, axis=-1)\n",
    "    return metric.compute(predictions=predictions, references=labels)"
   ]
  },
  {
   "cell_type": "code",
   "execution_count": 23,
   "metadata": {},
   "outputs": [],
   "source": [
    "from transformers import TrainingArguments, Trainer\n",
    "\n",
    "training_args = TrainingArguments(\n",
    "    num_train_epochs = params.get(\"training_epochs\", 2),\n",
    "    report_to = \"none\",\n",
    "    output_dir = \"test_trainer\", \n",
    "    eval_strategy = \"epoch\",\n",
    "    save_strategy = \"epoch\",\n",
    "    save_total_limit = 1,\n",
    "    #eval_strategy =\"steps\",\n",
    "    #save_strategy = \"steps\",\n",
    "    #eval_steps = 100, # Evaluation and Save happens every 100 steps \n",
    "    #save_total_limit = 3, # Only last 3 models are saved. Older ones are deleted.\n",
    "    load_best_model_at_end = True,\n",
    "    metric_for_best_model = \"f1\",\n",
    "    auto_find_batch_size = True,\n",
    "    #per_device_train_batch_size = params.get(\"batch_size\", 4),  # batch size per device during training\n",
    "    #per_device_eval_batch_size = params.get(\"batch_size\", 4), # batch size for evaluation\n",
    ")"
   ]
  },
  {
   "cell_type": "code",
   "execution_count": 24,
   "metadata": {},
   "outputs": [],
   "source": [
    "trainer = Trainer(\n",
    "    model=model,\n",
    "    args=training_args,\n",
    "    train_dataset=train_dataset,\n",
    "    eval_dataset=eval_dataset,\n",
    "    compute_metrics=compute_metrics,\n",
    ")"
   ]
  },
  {
   "cell_type": "code",
   "execution_count": 25,
   "metadata": {},
   "outputs": [
    {
     "data": {
      "text/html": [
       "\n",
       "    <div>\n",
       "      \n",
       "      <progress value='49680' max='49680' style='width:300px; height:20px; vertical-align: middle;'></progress>\n",
       "      [49680/49680 52:48, Epoch 2/2]\n",
       "    </div>\n",
       "    <table border=\"1\" class=\"dataframe\">\n",
       "  <thead>\n",
       " <tr style=\"text-align: left;\">\n",
       "      <th>Epoch</th>\n",
       "      <th>Training Loss</th>\n",
       "      <th>Validation Loss</th>\n",
       "      <th>Accuracy</th>\n",
       "      <th>Recall</th>\n",
       "      <th>Precision</th>\n",
       "      <th>F1</th>\n",
       "    </tr>\n",
       "  </thead>\n",
       "  <tbody>\n",
       "    <tr>\n",
       "      <td>1</td>\n",
       "      <td>0.140600</td>\n",
       "      <td>0.150639</td>\n",
       "      <td>0.942164</td>\n",
       "      <td>0.975199</td>\n",
       "      <td>0.961129</td>\n",
       "      <td>0.968113</td>\n",
       "    </tr>\n",
       "    <tr>\n",
       "      <td>2</td>\n",
       "      <td>0.151100</td>\n",
       "      <td>0.148031</td>\n",
       "      <td>0.942134</td>\n",
       "      <td>0.974310</td>\n",
       "      <td>0.961906</td>\n",
       "      <td>0.968069</td>\n",
       "    </tr>\n",
       "  </tbody>\n",
       "</table><p>"
      ],
      "text/plain": [
       "<IPython.core.display.HTML object>"
      ]
     },
     "metadata": {},
     "output_type": "display_data"
    },
    {
     "name": "stdout",
     "output_type": "stream",
     "text": [
      "CPU times: user 52min 44s, sys: 6.74 s, total: 52min 51s\n",
      "Wall time: 52min 49s\n"
     ]
    }
   ],
   "source": [
    "%%time\n",
    "\n",
    "train_result = trainer.train()"
   ]
  },
  {
   "cell_type": "markdown",
   "metadata": {},
   "source": [
    "Let's store all this work fist."
   ]
  },
  {
   "cell_type": "code",
   "execution_count": 26,
   "metadata": {},
   "outputs": [],
   "source": [
    "model_path = \"data/\"+params[\"transformers_model_name\"]+\"-sentiment-classifier\"\n",
    "\n",
    "model.save_pretrained(model_path)\n",
    "_ = tokenizer.save_pretrained(model_path)"
   ]
  },
  {
   "cell_type": "markdown",
   "metadata": {},
   "source": [
    "Remark: I experienced an OOM during startup of the second finetuning step. In this case you need to restart and reload the model (see commented code below)."
   ]
  },
  {
   "cell_type": "code",
   "execution_count": 27,
   "metadata": {},
   "outputs": [],
   "source": [
    "# model_path = \"data/\"+params[\"transformers_model_name\"]+\"-sentiment-classifier\"\n",
    "\n",
    "#tokenizer = AutoTokenizer.from_pretrained(model_path, local_files_only=True)\n",
    "#model = AutoModelForSequenceClassification.from_pretrained(model_path, local_files_only=True)"
   ]
  },
  {
   "cell_type": "markdown",
   "metadata": {},
   "source": [
    "Unfreeze all layers to allow for a full model training."
   ]
  },
  {
   "cell_type": "code",
   "execution_count": 28,
   "metadata": {},
   "outputs": [],
   "source": [
    "for name, param in model.named_parameters():\n",
    "        param.requires_grad = True"
   ]
  },
  {
   "cell_type": "markdown",
   "metadata": {},
   "source": [
    "Setup trainer again (initialize with fresh parameters)."
   ]
  },
  {
   "cell_type": "code",
   "execution_count": 29,
   "metadata": {},
   "outputs": [],
   "source": [
    "training_args.num_train_epochs = 3"
   ]
  },
  {
   "cell_type": "code",
   "execution_count": 30,
   "metadata": {},
   "outputs": [],
   "source": [
    "trainer = Trainer(\n",
    "    model=model,\n",
    "    args=training_args,\n",
    "    train_dataset=train_dataset,\n",
    "    eval_dataset=eval_dataset,\n",
    "    compute_metrics=compute_metrics,\n",
    ")"
   ]
  },
  {
   "cell_type": "code",
   "execution_count": 31,
   "metadata": {},
   "outputs": [
    {
     "data": {
      "text/html": [
       "\n",
       "    <div>\n",
       "      \n",
       "      <progress value='74520' max='74520' style='width:300px; height:20px; vertical-align: middle;'></progress>\n",
       "      [74520/74520 3:49:36, Epoch 3/3]\n",
       "    </div>\n",
       "    <table border=\"1\" class=\"dataframe\">\n",
       "  <thead>\n",
       " <tr style=\"text-align: left;\">\n",
       "      <th>Epoch</th>\n",
       "      <th>Training Loss</th>\n",
       "      <th>Validation Loss</th>\n",
       "      <th>Accuracy</th>\n",
       "      <th>Recall</th>\n",
       "      <th>Precision</th>\n",
       "      <th>F1</th>\n",
       "    </tr>\n",
       "  </thead>\n",
       "  <tbody>\n",
       "    <tr>\n",
       "      <td>1</td>\n",
       "      <td>0.121400</td>\n",
       "      <td>0.152331</td>\n",
       "      <td>0.966621</td>\n",
       "      <td>0.992454</td>\n",
       "      <td>0.971106</td>\n",
       "      <td>0.981664</td>\n",
       "    </tr>\n",
       "    <tr>\n",
       "      <td>2</td>\n",
       "      <td>0.083300</td>\n",
       "      <td>0.100668</td>\n",
       "      <td>0.975120</td>\n",
       "      <td>0.989117</td>\n",
       "      <td>0.983346</td>\n",
       "      <td>0.986223</td>\n",
       "    </tr>\n",
       "    <tr>\n",
       "      <td>3</td>\n",
       "      <td>0.065400</td>\n",
       "      <td>0.098221</td>\n",
       "      <td>0.976796</td>\n",
       "      <td>0.987206</td>\n",
       "      <td>0.987023</td>\n",
       "      <td>0.987114</td>\n",
       "    </tr>\n",
       "  </tbody>\n",
       "</table><p>"
      ],
      "text/plain": [
       "<IPython.core.display.HTML object>"
      ]
     },
     "metadata": {},
     "output_type": "display_data"
    },
    {
     "name": "stdout",
     "output_type": "stream",
     "text": [
      "CPU times: user 3h 49min 25s, sys: 20.4 s, total: 3h 49min 46s\n",
      "Wall time: 3h 49min 37s\n"
     ]
    }
   ],
   "source": [
    "%%time\n",
    "\n",
    "train_result = trainer.train()"
   ]
  },
  {
   "cell_type": "code",
   "execution_count": 32,
   "metadata": {},
   "outputs": [
    {
     "data": {
      "text/html": [
       "\n",
       "    <div>\n",
       "      \n",
       "      <progress value='8280' max='8280' style='width:300px; height:20px; vertical-align: middle;'></progress>\n",
       "      [8280/8280 06:20]\n",
       "    </div>\n",
       "    "
      ],
      "text/plain": [
       "<IPython.core.display.HTML object>"
      ]
     },
     "metadata": {},
     "output_type": "display_data"
    },
    {
     "data": {
      "text/plain": [
       "{'eval_loss': 0.09822086244821548,\n",
       " 'eval_accuracy': 0.9767961472848322,\n",
       " 'eval_recall': 0.987205500125765,\n",
       " 'eval_precision': 0.9870234382858867,\n",
       " 'eval_f1': 0.987114460811026,\n",
       " 'eval_runtime': 381.6006,\n",
       " 'eval_samples_per_second': 173.582,\n",
       " 'eval_steps_per_second': 21.698,\n",
       " 'epoch': 3.0}"
      ]
     },
     "execution_count": 32,
     "metadata": {},
     "output_type": "execute_result"
    }
   ],
   "source": [
    "trainer.evaluate()"
   ]
  },
  {
   "cell_type": "code",
   "execution_count": 33,
   "metadata": {},
   "outputs": [],
   "source": [
    "model_path = \"data/\"+params[\"transformers_model_name\"]+\"-sentiment-full\"\n",
    "\n",
    "model.save_pretrained(model_path)\n",
    "_ = tokenizer.save_pretrained(model_path)"
   ]
  },
  {
   "cell_type": "markdown",
   "metadata": {},
   "source": [
    "load the model (in case you need to restart)"
   ]
  },
  {
   "cell_type": "code",
   "execution_count": 34,
   "metadata": {},
   "outputs": [],
   "source": [
    "#tokenizer = AutoTokenizer.from_pretrained(model_path, local_files_only=True)\n",
    "#model = AutoModelForSequenceClassification.from_pretrained(model_path, local_files_only=True)"
   ]
  },
  {
   "cell_type": "code",
   "execution_count": null,
   "metadata": {},
   "outputs": [],
   "source": []
  },
  {
   "cell_type": "markdown",
   "metadata": {},
   "source": [
    "Let's put this into a Pipeline (see also [here](https://huggingface.co/docs/transformers/add_new_pipeline))"
   ]
  },
  {
   "cell_type": "code",
   "execution_count": 35,
   "metadata": {},
   "outputs": [],
   "source": [
    "from transformers import Pipeline\n",
    "\n",
    "class DoctorReviewsSentimentPipeline(Pipeline):\n",
    "    \n",
    "    def _sanitize_parameters(self, **kwargs):\n",
    "        preprocess_kwargs = {}\n",
    "        if \"input_sequence_length\" in kwargs:\n",
    "            preprocess_kwargs[\"input_sequence_length\"] = kwargs[\"input_sequence_length\"]\n",
    "        return preprocess_kwargs, {}, {}\n",
    "\n",
    "    def preprocess(self, text, input_sequence_length=256):\n",
    "        # max_length can have a major performance impact (choose it wisely).\n",
    "        # if there are occasional very long sentence compared to the others, \n",
    "        # the whole batch will need to be 256 tokens long (i.e. [batch_size, 256]),\n",
    "        # leading to a slowdown (on bigger batches the program might even crash).\n",
    "        #\n",
    "        # Therefore it could make sense to choose a shorter input_sequence_length\n",
    "        # (however, there is a tradeoff between model performance vs. compute performance)\n",
    "        return self.tokenizer(text, \n",
    "                              padding=True, \n",
    "                              truncation=True, \n",
    "                              max_length=input_sequence_length, \n",
    "                              return_tensors=self.framework)\n",
    "\n",
    "    def _forward(self, model_inputs):\n",
    "        return self.model(**model_inputs)\n",
    "\n",
    "    def postprocess(self, model_outputs):\n",
    "        import torch\n",
    "        import numpy as np \n",
    "        \n",
    "        predictions = np.argmax(model_outputs.logits, axis=-1)\n",
    "        labels = [self.model.config.id2label[pred.item()] for (idx,pred) in enumerate(predictions)]\n",
    "        \n",
    "        if len(labels) == 1:\n",
    "            return labels[0]\n",
    "        else:\n",
    "            return labels"
   ]
  },
  {
   "cell_type": "code",
   "execution_count": 36,
   "metadata": {},
   "outputs": [
    {
     "name": "stderr",
     "output_type": "stream",
     "text": [
      "/tmp/ipykernel_74/456468740.py:5: FutureWarning: `tf_model` is deprecated and will be removed in version 5.0.0 for `PipelineRegistry.register_pipeline`.\n",
      "  PIPELINE_REGISTRY.register_pipeline(\n"
     ]
    }
   ],
   "source": [
    "from transformers.pipelines import PIPELINE_REGISTRY\n",
    "from transformers import AutoModelForSequenceClassification\n",
    "from transformers import TFAutoModelForSequenceClassification\n",
    "\n",
    "PIPELINE_REGISTRY.register_pipeline(\n",
    "    \"doctor-reviews-sentiment\",\n",
    "    pipeline_class=DoctorReviewsSentimentPipeline,\n",
    "    pt_model=AutoModelForSequenceClassification,\n",
    "    tf_model=TFAutoModelForSequenceClassification,\n",
    "    #default={\"pt\": (model_name, model_version)},\n",
    "    type=\"text\",\n",
    ")"
   ]
  },
  {
   "cell_type": "code",
   "execution_count": 37,
   "metadata": {},
   "outputs": [
    {
     "name": "stderr",
     "output_type": "stream",
     "text": [
      "Device set to use cuda:0\n"
     ]
    }
   ],
   "source": [
    "from transformers import pipeline\n",
    "\n",
    "sentiment_pipeline = pipeline(\"doctor-reviews-sentiment\", \n",
    "                              model = model_path,\n",
    "                              device = params.get(\"compute_device\", \"cpu\"),\n",
    "                              input_sequence_length = params.get(\"input_sequence_length\", 256)\n",
    "                             )"
   ]
  },
  {
   "cell_type": "code",
   "execution_count": 38,
   "metadata": {},
   "outputs": [
    {
     "data": {
      "text/plain": [
       "['positive', 'negative', 'positive']"
      ]
     },
     "execution_count": 38,
     "metadata": {},
     "output_type": "execute_result"
    }
   ],
   "source": [
    "sentiment_pipeline(data[params[\"X_column_name\"]].head(3).tolist())"
   ]
  },
  {
   "cell_type": "code",
   "execution_count": null,
   "metadata": {},
   "outputs": [],
   "source": []
  },
  {
   "cell_type": "code",
   "execution_count": 39,
   "metadata": {},
   "outputs": [],
   "source": [
    "from transformers.pipelines.pt_utils import KeyDataset\n",
    "\n",
    "batch_size = params.get(\"batch_size\", 16)\n",
    "\n",
    "dataset_test = datasets[\"test\"]\n",
    "dataset_val = datasets[\"validation\"]\n",
    "dataset_train = datasets[\"train\"]\n",
    "\n",
    "pred_iter_test = sentiment_pipeline(KeyDataset(dataset_test, params[\"X_column_name\"]), batch_size=batch_size)\n",
    "pred_iter_val = sentiment_pipeline(KeyDataset(dataset_val, params[\"X_column_name\"]), batch_size=batch_size)\n",
    "pred_iter_train = sentiment_pipeline(KeyDataset(dataset_train, params[\"X_column_name\"]), batch_size=batch_size)"
   ]
  },
  {
   "cell_type": "code",
   "execution_count": 40,
   "metadata": {},
   "outputs": [
    {
     "name": "stdout",
     "output_type": "stream",
     "text": [
      "CPU times: user 24min 56s, sys: 190 ms, total: 24min 56s\n",
      "Wall time: 24min 56s\n"
     ]
    }
   ],
   "source": [
    "%%time \n",
    "\n",
    "# evaluate PipelineIterator\n",
    "preds_test = [x for x in pred_iter_test]\n",
    "preds_val = [x for x in pred_iter_val]\n",
    "preds_train = [x for x in pred_iter_train]"
   ]
  },
  {
   "cell_type": "code",
   "execution_count": null,
   "metadata": {},
   "outputs": [],
   "source": []
  },
  {
   "cell_type": "code",
   "execution_count": 41,
   "metadata": {},
   "outputs": [],
   "source": [
    "labels_test = [model.config.id2label[label] for label in dataset_test[\"label\"]]\n",
    "labels_val = [model.config.id2label[label] for label in dataset_val[\"label\"]]\n",
    "labels_train = [model.config.id2label[label] for label in dataset_train[\"label\"]]"
   ]
  },
  {
   "cell_type": "code",
   "execution_count": 42,
   "metadata": {},
   "outputs": [
    {
     "name": "stdout",
     "output_type": "stream",
     "text": [
      "Set Population: 331197\n",
      "Accuracy: 0.9824\n"
     ]
    },
    {
     "data": {
      "image/png": "[encoded data removed]",
      "text/plain": [
       "<Figure size 1000x800 with 2 Axes>"
      ]
     },
     "metadata": {},
     "output_type": "display_data"
    },
    {
     "name": "stdout",
     "output_type": "stream",
     "text": [
      "              precision    recall  f1-score   support\n",
      "\n",
      "    negative       0.91      0.91      0.91     33023\n",
      "    positive       0.99      0.99      0.99    298174\n",
      "\n",
      "    accuracy                           0.98    331197\n",
      "   macro avg       0.95      0.95      0.95    331197\n",
      "weighted avg       0.98      0.98      0.98    331197\n",
      "\n"
     ]
    }
   ],
   "source": [
    "from fhnw.nlp.utils.ploting import report_classification_results\n",
    "\n",
    "report_classification_results(params, labels_test + labels_val + labels_train, preds_test + preds_val + preds_train)"
   ]
  },
  {
   "cell_type": "code",
   "execution_count": 43,
   "metadata": {},
   "outputs": [
    {
     "name": "stdout",
     "output_type": "stream",
     "text": [
      "Set Population: 66239\n",
      "Accuracy: 0.9768\n"
     ]
    },
    {
     "data": {
      "image/png": "[encoded data removed]",
      "text/plain": [
       "<Figure size 1000x800 with 2 Axes>"
      ]
     },
     "metadata": {},
     "output_type": "display_data"
    },
    {
     "name": "stdout",
     "output_type": "stream",
     "text": [
      "              precision    recall  f1-score   support\n",
      "\n",
      "    negative       0.88      0.88      0.88      6604\n",
      "    positive       0.99      0.99      0.99     59635\n",
      "\n",
      "    accuracy                           0.98     66239\n",
      "   macro avg       0.94      0.94      0.94     66239\n",
      "weighted avg       0.98      0.98      0.98     66239\n",
      "\n"
     ]
    }
   ],
   "source": [
    "report_classification_results(params, labels_test, preds_test)"
   ]
  },
  {
   "cell_type": "markdown",
   "metadata": {},
   "source": [
    "A downside is certainly the tremendous amount of training time that was needed to fine tune the model. On the other hand the base model on a tremendous amount of data and knows a lot about language and thus the fine tuned model is likely to generalize."
   ]
  },
  {
   "cell_type": "code",
   "execution_count": null,
   "metadata": {},
   "outputs": [],
   "source": []
  }
 ],
 "metadata": {
  "kernelspec": {
   "display_name": "Python 3 (ipykernel)",
   "language": "python",
   "name": "python3"
  },
  "language_info": {
   "codemirror_mode": {
    "name": "ipython",
    "version": 3
   },
   "file_extension": ".py",
   "mimetype": "text/x-python",
   "name": "python",
   "nbconvert_exporter": "python",
   "pygments_lexer": "ipython3",
   "version": "3.11.13"
  }
 },
 "nbformat": 4,
 "nbformat_minor": 4
}
