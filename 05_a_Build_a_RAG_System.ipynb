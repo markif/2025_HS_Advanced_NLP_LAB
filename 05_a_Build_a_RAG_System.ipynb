{
 "cells": [
  {
   "cell_type": "markdown",
   "id": "6d29ea3d-6c1a-4c1a-b4bb-bca7388641a7",
   "metadata": {},
   "source": [
    "<img align=\"right\" width=\"400\" src=\"https://drive.google.com/thumbnail?id=1rPeHEqFWHJcauZlU82a4hXM10TUjmHxM&sz=s4000\" alt=\"FHNW Logo\">\n",
    "\n",
    "\n",
    "# Build a RAG System\n",
    "\n",
    "by Fabian Märki\n",
    "\n",
    "## Summary\n",
    "The aim of this notebook is to illustrate how to build a RAG.\n",
    "\n",
    "## Links\n",
    "- [A Comprehensive Guide to RAG](https://www.chatbees.ai/blog/rag-nlp)\n",
    "- [LangChain RAG Tutorial](https://python.langchain.com/docs/tutorials/rag/) with a [Detailed Walkthrough](https://python.langchain.com/docs/tutorials/rag/#detailed-walkthrough) (worth reading)\n",
    "- [Haystack RAG Tutorial](https://haystack.deepset.ai/tutorials/27_first_rag_pipeline)\n",
    "- [RAG for LLMs](https://www.promptingguide.ai/research/rag)\n",
    "\n",
    "This notebook contains assigments: <font color='red'>Questions are written in red.</font>\n",
    "\n",
    "<a href=\"https://colab.research.google.com/github/markif/2025_HS_Advanced_NLP_LAB/blob/master/05_a_Build_a_RAG_System.ipynb\">\n",
    "  <img align=\"left\" src=\"https://colab.research.google.com/assets/colab-badge.svg\" alt=\"Open In Colab\"/>\n",
    "</a>"
   ]
  },
  {
   "cell_type": "code",
   "execution_count": 1,
   "id": "248dc863-0e8a-463a-b01d-c822969f9c69",
   "metadata": {},
   "outputs": [],
   "source": [
    "#OLLAMA_HOST='https://XYZ.trycloudflare.com'\n",
    "OLLAMA_HOST='http://localhost:11434'\n",
    "OPENAI_BASE_URL=OLLAMA_HOST+\"/v1/\""
   ]
  },
  {
   "cell_type": "code",
   "execution_count": 2,
   "id": "18350a95-cf7f-4e87-ae9e-2efb8655565f",
   "metadata": {},
   "outputs": [],
   "source": [
    "%%capture\n",
    "\n",
    "!pip install 'fhnw-nlp-utils>=0.11.0,<0.12.0'\n",
    "\n",
    "from fhnw.nlp.utils.storage import download\n",
    "from fhnw.nlp.utils.transformers import get_compute_device\n",
    "\n",
    "import pandas as pd\n",
    "import numpy as np"
   ]
  },
  {
   "cell_type": "code",
   "execution_count": 3,
   "id": "e81d0f1b-aca0-4152-a7e9-1a701afbb0cb",
   "metadata": {},
   "outputs": [],
   "source": [
    "%%capture\n",
    "\n",
    "!pip install pypdf\n",
    "!pip install langchain-community==0.3.10\n",
    "!pip install langchain-ollama==0.3.10\n",
    "!pip install langchain_openai==0.3.10\n",
    "!pip install langchain-huggingface==0.3.10\n",
    "!pip install chromadb"
   ]
  },
  {
   "cell_type": "markdown",
   "id": "5a5bc969-c276-471b-a65a-439986bb5492",
   "metadata": {},
   "source": [
    "Enable verbose/debug to see detailed output (see [here](https://python.langchain.com/docs/how_to/debugging/#set_debug-and-set_verbose)."
   ]
  },
  {
   "cell_type": "code",
   "execution_count": 4,
   "id": "dc837170-8a84-4cd8-a355-6e152449d33b",
   "metadata": {},
   "outputs": [],
   "source": [
    "from langchain.globals import set_verbose\n",
    "from langchain.globals import set_debug\n",
    "\n",
    "set_verbose(False)\n",
    "set_debug(False)"
   ]
  },
  {
   "cell_type": "markdown",
   "id": "2eb66315-7d9c-43dc-a299-42085dda6835",
   "metadata": {},
   "source": [
    "## Document Preparation\n",
    "\n",
    "<img src=\"https://drive.switch.ch/index.php/s/qSIM5OGsGrqdaOl/download\" alt=\"RAG Indexing\">\n",
    "Illustration of the document ingestion pipeline."
   ]
  },
  {
   "cell_type": "markdown",
   "id": "652ac2a6-1e8d-4e72-b01e-f2686acd4876",
   "metadata": {},
   "source": [
    "### Download and Load the Documents"
   ]
  },
  {
   "cell_type": "markdown",
   "id": "5d3d8fb8-4b0b-4548-9d5d-48265786f823",
   "metadata": {},
   "source": [
    "We will do some queries on the menu of a restaurant."
   ]
  },
  {
   "cell_type": "code",
   "execution_count": 5,
   "id": "5680ca27-9efc-4ec6-b871-c3d1bf18d14a",
   "metadata": {},
   "outputs": [],
   "source": [
    "pdf_folder = \"data/pdfs\"\n",
    "\n",
    "menu_dinner = pdf_folder + \"/Menu_Dinner.pdf\"\n",
    "menu_kids = pdf_folder + \"/Menu_Kids.pdf\"\n",
    "menu_week_specials = pdf_folder + \"/Menu_Week_Specials.pdf\"\n",
    "\n",
    "download(\"https://drive.switch.ch/index.php/s/lWUezzWeYUv3Vc6/download\", menu_dinner)\n",
    "download(\"https://drive.switch.ch/index.php/s/VmjVLTmvv1mgtB1/download\", menu_kids)\n",
    "download(\"https://drive.switch.ch/index.php/s/bV5n4BxkSb2JWdP/download\", menu_week_specials)"
   ]
  },
  {
   "cell_type": "markdown",
   "id": "ef291da5-5c31-40cf-8af6-56aa4ac9a081",
   "metadata": {},
   "source": [
    "There are document loaders for different formats available:\n",
    "- LangChain provides a multitude of [document loaders](https://python.langchain.com/docs/integrations/document_loaders/) for different sources\n",
    "- Load a single [PDF document](https://python.langchain.com/docs/how_to/document_loader_pdf/)\n"
   ]
  },
  {
   "cell_type": "code",
   "execution_count": 6,
   "id": "112a7b2a-d363-4188-bc09-72b3349c061a",
   "metadata": {},
   "outputs": [
    {
     "name": "stderr",
     "output_type": "stream",
     "text": [
      "Ignoring wrong pointing object 6 0 (offset 0)\n",
      "Ignoring wrong pointing object 8 0 (offset 0)\n",
      "Ignoring wrong pointing object 10 0 (offset 0)\n",
      "Ignoring wrong pointing object 13 0 (offset 0)\n",
      "Ignoring wrong pointing object 15 0 (offset 0)\n",
      "Ignoring wrong pointing object 21 0 (offset 0)\n"
     ]
    }
   ],
   "source": [
    "from langchain_community.document_loaders import PyPDFDirectoryLoader\n",
    "\n",
    "loader = PyPDFDirectoryLoader(pdf_folder)\n",
    "documents = loader.load()"
   ]
  },
  {
   "cell_type": "markdown",
   "id": "ffdbd2b7-968d-4f5a-9e0f-f4862651f606",
   "metadata": {},
   "source": [
    "### Split the Documents into Chunks\n",
    "\n",
    "- LangChain's text splitters [API reference](https://python.langchain.com/api_reference/text_splitters/index.html)\n",
    "- Haystack's text splitters [API reference](https://docs.haystack.deepset.ai/docs/documentsplitter)\n",
    "- [Visualize](https://chunkviz.up.railway.app/) different chunking/splitting strategies\n",
    "- [Mastering Text Splitting in LangChain](https://medium.com/@harsh.vardhan7695/mastering-text-splitting-in-langchain-735313216e01) "
   ]
  },
  {
   "cell_type": "code",
   "execution_count": 7,
   "id": "640f44c2-6178-407f-b070-b4947b3be94c",
   "metadata": {},
   "outputs": [],
   "source": [
    "from langchain.text_splitter import RecursiveCharacterTextSplitter\n",
    "\n",
    "splitter = RecursiveCharacterTextSplitter()\n",
    "#splitter = RecursiveCharacterTextSplitter(separators=[\"\\n\\n\", \"\\n\", \".\", \"?\", \"!\", \":\", \",\"], chunk_size=512, chunk_overlap=64, length_function=len)\n",
    "chunks = splitter.split_documents(documents)"
   ]
  },
  {
   "cell_type": "code",
   "execution_count": 8,
   "id": "332e48d0-2330-43de-a041-ad08461777ec",
   "metadata": {},
   "outputs": [
    {
     "name": "stdout",
     "output_type": "stream",
     "text": [
      "page_content='3. GRILLED CHEESE SANDWICH\n",
      "●\n",
      "●\n",
      "●\n",
      "Description: Melted cheese between slices of buttered bread, grilled to perfection.\n",
      "Allergens: Dairy, Gluten.\n",
      "Suitable for Vegetarians: Yes\n",
      "4. SPAGHETTI WITH MARINARA SAUCE\n",
      "●\n",
      "●\n",
      "●\n",
      "Description: Kid-friendly spaghetti noodles topped with tomato marinara sauce.\n",
      "Allergens: Gluten.\n",
      "Suitable for Vegetarians: Yes\n",
      "5. MINI PITA PIZZA\n",
      "●\n",
      "●\n",
      "●\n",
      "Description: Small pita bread topped with tomato sauce, cheese, and favorite toppings.\n",
      "Allergens: Dairy, Gluten.\n",
      "Suitable for Vegetarians: Yes\n",
      "Desserts:\n",
      "1. MINI ICE CREAM SUNDAE\n",
      "●\n",
      "●\n",
      "●\n",
      "Description: A scoop of vanilla ice cream with chocolate sauce and rainbow sprinkles.\n",
      "Allergens: Dairy.\n",
      "Suitable for Vegetarians: Yes\n",
      "2. FRUIT KABOBS\n",
      "●\n",
      "●\n",
      "●\n",
      "Description: Fresh fruit chunks on skewers for a fun and healthy dessert.\n",
      "Allergens: None.\n",
      "Suitable for Vegetarians: Yes\n",
      "3. CHOCOLATE CHIP COOKIE BITES\n",
      "●\n",
      "●\n",
      "●\n",
      "Description: Bite-sized chocolate chip cookies.\n",
      "Allergens: Dairy, Gluten.\n",
      "Suitable for Vegetarians: Yes\n",
      "4. BANANA SPLIT\n",
      "●\n",
      "●\n",
      "●\n",
      "Description: Sliced banana with scoops of strawberry, chocolate, and vanilla ice cream, topped with whipped cream\n",
      "and a cherry.\n",
      "Allergens: Dairy.\n",
      "Suitable for Vegetarians: Yes\n",
      "5. JELLO CUPS\n",
      "●\n",
      "●\n",
      "Description: Colorful and wiggly gelatin cups.\n",
      "Allergens: None.' metadata={'producer': 'Skia/PDF m119', 'creator': 'Chromium', 'creationdate': '2023-11-29T13:58:14+00:00', 'moddate': '2023-11-29T13:58:14+00:00', 'source': 'data/pdfs/Menu_Kids.pdf', 'total_pages': 3, 'page': 1, 'page_label': '2'}\n"
     ]
    }
   ],
   "source": [
    "print(chunks[5])"
   ]
  },
  {
   "cell_type": "markdown",
   "id": "475b0cfc-faeb-46dd-94bb-09264952eca3",
   "metadata": {},
   "source": [
    "<font color='red'>**Task: Try a different TextSplitter and see if it makes a difference (see above for interesting links).**</font>"
   ]
  },
  {
   "cell_type": "code",
   "execution_count": 9,
   "id": "6d36cc2c-63cf-43ab-aa75-8efe8e6f5106",
   "metadata": {},
   "outputs": [
    {
     "name": "stderr",
     "output_type": "stream",
     "text": [
      "[nltk_data] Downloading package punkt_tab to /root/nltk_data...\n",
      "[nltk_data]   Package punkt_tab is already up-to-date!\n"
     ]
    }
   ],
   "source": [
    "splitter = ..."
   ]
  },
  {
   "cell_type": "code",
   "execution_count": 10,
   "id": "ae3a617f-b655-4f51-9edf-62844fb29900",
   "metadata": {},
   "outputs": [
    {
     "name": "stdout",
     "output_type": "stream",
     "text": [
      "page_content='3.\n",
      "\n",
      "GRILLED CHEESE SANDWICH\n",
      "●\n",
      "●\n",
      "●\n",
      "Description: Melted cheese between slices of buttered bread, grilled to perfection.\n",
      "\n",
      "Allergens: Dairy, Gluten.\n",
      "\n",
      "Suitable for Vegetarians: Yes\n",
      "4.\n",
      "\n",
      "SPAGHETTI WITH MARINARA SAUCE\n",
      "●\n",
      "●\n",
      "●\n",
      "Description: Kid-friendly spaghetti noodles topped with tomato marinara sauce.\n",
      "\n",
      "Allergens: Gluten.\n",
      "\n",
      "Suitable for Vegetarians: Yes\n",
      "5.\n",
      "\n",
      "MINI PITA PIZZA\n",
      "●\n",
      "●\n",
      "●\n",
      "Description: Small pita bread topped with tomato sauce, cheese, and favorite toppings.\n",
      "\n",
      "Allergens: Dairy, Gluten.\n",
      "\n",
      "Suitable for Vegetarians: Yes\n",
      "Desserts:\n",
      "1.\n",
      "\n",
      "MINI ICE CREAM SUNDAE\n",
      "●\n",
      "●\n",
      "●\n",
      "Description: A scoop of vanilla ice cream with chocolate sauce and rainbow sprinkles.\n",
      "\n",
      "Allergens: Dairy.\n",
      "\n",
      "Suitable for Vegetarians: Yes\n",
      "2.\n",
      "\n",
      "FRUIT KABOBS\n",
      "●\n",
      "●\n",
      "●\n",
      "Description: Fresh fruit chunks on skewers for a fun and healthy dessert.\n",
      "\n",
      "Allergens: None.\n",
      "\n",
      "Suitable for Vegetarians: Yes\n",
      "3.\n",
      "\n",
      "CHOCOLATE CHIP COOKIE BITES\n",
      "●\n",
      "●\n",
      "●\n",
      "Description: Bite-sized chocolate chip cookies.\n",
      "\n",
      "Allergens: Dairy, Gluten.\n",
      "\n",
      "Suitable for Vegetarians: Yes\n",
      "4.\n",
      "\n",
      "BANANA SPLIT\n",
      "●\n",
      "●\n",
      "●\n",
      "Description: Sliced banana with scoops of strawberry, chocolate, and vanilla ice cream, topped with whipped cream\n",
      "and a cherry.\n",
      "\n",
      "Allergens: Dairy.\n",
      "\n",
      "Suitable for Vegetarians: Yes\n",
      "5.\n",
      "\n",
      "JELLO CUPS\n",
      "●\n",
      "●\n",
      "Description: Colorful and wiggly gelatin cups.\n",
      "\n",
      "Allergens: None.' metadata={'producer': 'Skia/PDF m119', 'creator': 'Chromium', 'creationdate': '2023-11-29T13:58:14+00:00', 'moddate': '2023-11-29T13:58:14+00:00', 'source': 'data/pdfs/Menu_Kids.pdf', 'total_pages': 3, 'page': 1, 'page_label': '2'}\n"
     ]
    }
   ],
   "source": [
    "print(chunks[5])"
   ]
  },
  {
   "cell_type": "code",
   "execution_count": null,
   "id": "2e1105fe-bd09-4f78-b977-1a94ab46e4d4",
   "metadata": {},
   "outputs": [],
   "source": []
  },
  {
   "cell_type": "markdown",
   "id": "2ca82360-9a55-4c9d-ad4a-0cbcd6300d51",
   "metadata": {},
   "source": [
    "## Embed the Documents (i.e. the Chunks)"
   ]
  },
  {
   "cell_type": "markdown",
   "id": "d84add2d-8990-44ff-9ff1-86686411baa0",
   "metadata": {},
   "source": [
    "### Access Ollama to Embed Documents\n",
    "Let's use Ollama (see [here](https://ollama.com/blog/embedding-models) and [here](https://python.langchain.com/docs/integrations/text_embedding/ollama/)) to embed our text. Models are available from [here](https://ollama.com/search?c=embedding)."
   ]
  },
  {
   "cell_type": "code",
   "execution_count": 11,
   "id": "3814d98a-9e44-49cf-bd56-3ed4c24996b6",
   "metadata": {},
   "outputs": [],
   "source": [
    "from langchain_ollama import OllamaEmbeddings"
   ]
  },
  {
   "cell_type": "code",
   "execution_count": 12,
   "id": "6efd1615-a012-4155-b89c-881e1cbb86d4",
   "metadata": {},
   "outputs": [],
   "source": [
    "MODEL_EMBEDDING = \"nomic-embed-text\"\n",
    "\n",
    "# ensure (in your environment) that the model is installed\n",
    "#\n",
    "# !ollama pull <your_model>\n",
    "# docker exec -it ollama sh -c \"ollama pull <your_model>\"\n",
    "\n",
    "embedder = OllamaEmbeddings(\n",
    "    model=MODEL_EMBEDDING,\n",
    "    base_url=OLLAMA_HOST,\n",
    ")"
   ]
  },
  {
   "cell_type": "markdown",
   "id": "8d710cc2-0e85-4260-8b0c-3ee1e7f6b112",
   "metadata": {
    "jp-MarkdownHeadingCollapsed": true
   },
   "source": [
    "### Run an Embedder Locally \n",
    "\n",
    "Alternatively, you can use [Sentence Transformers](https://www.sbert.net) (or see [here](https://huggingface.co/sentence-transformers) or [here](https://huggingface.co/recipe/embeddings)) to embed our text using a model that runs locally. Models are available from [here](https://www.sbert.net/docs/sentence_transformer/pretrained_models.html) or [here](https://huggingface.co/models?library=sentence-transformers&sort=downloads)."
   ]
  },
  {
   "cell_type": "code",
   "execution_count": 13,
   "id": "7c6274ac-37ec-4d0f-9f10-c007233d9da9",
   "metadata": {},
   "outputs": [],
   "source": [
    "# enable if you want to run a local model (and the bug mentioned above got resolved)\n",
    "run_locally = False"
   ]
  },
  {
   "cell_type": "markdown",
   "id": "491d81be-0180-4de5-aece-53b41ef9e7b0",
   "metadata": {},
   "source": [
    "**Make sure that a GPU is available (see [here](https://www.tutorialspoint.com/google_colab/google_colab_using_free_gpu.htm))!!!**"
   ]
  },
  {
   "cell_type": "code",
   "execution_count": 14,
   "id": "79928c81-3f4c-4439-a675-0407f77e20c9",
   "metadata": {},
   "outputs": [],
   "source": [
    "from langchain_huggingface import HuggingFaceEmbeddings\n",
    "\n",
    "if run_locally:\n",
    "    model_name_embedder = \"sentence-transformers/paraphrase-multilingual-MiniLM-L12-v2\" #\"sentence-transformers/all-mpnet-base-v2\"\n",
    "    model_kwargs_embedder = {\"device\": get_compute_device()}\n",
    "\n",
    "    embedder = HuggingFaceEmbeddings(model_name=model_name_embedder, model_kwargs=model_kwargs_embedder)"
   ]
  },
  {
   "cell_type": "markdown",
   "id": "fbd194a9-a7d9-4282-a7ce-baf79f5cc820",
   "metadata": {},
   "source": [
    "### Test the Embedder \n",
    "\n",
    "Let's do a quick similarity check..."
   ]
  },
  {
   "cell_type": "code",
   "execution_count": 15,
   "id": "862bb547-a7f6-4924-8980-6a95af6e130c",
   "metadata": {},
   "outputs": [],
   "source": [
    "sentences = [\n",
    "    \"Machine learning is very interesting.\",\n",
    "    \"I enjoy deep learning.\",\n",
    "    \"That is a happy person.\",\n",
    "    \"That is a happy dog.\",\n",
    "    \"That is a very happy person.\",\n",
    "    \"Today is a sunny day.\",\n",
    "    \"The weather forecast for this week is mostly sunny.\",\n",
    "    \"I like to be in my apartment.\", \n",
    "    \"I enjoy staying home.\", \n",
    "    \"The isotope 238u decays to 206pb.\"\n",
    "]\n",
    "\n",
    "embeddings = embedder.embed_documents(sentences)"
   ]
  },
  {
   "cell_type": "code",
   "execution_count": 16,
   "id": "fd1add87-e7cc-47c7-a8b2-57b16c2c67ec",
   "metadata": {},
   "outputs": [
    {
     "data": {
      "text/plain": [
       "<Axes: >"
      ]
     },
     "execution_count": 16,
     "metadata": {},
     "output_type": "execute_result"
    },
    {
     "data": {
      "image/png": "[encoded data removed]",
      "text/plain": [
       "<Figure size 640x480 with 2 Axes>"
      ]
     },
     "metadata": {},
     "output_type": "display_data"
    }
   ],
   "source": [
    "import seaborn as sns\n",
    "from sklearn.metrics.pairwise import cosine_similarity\n",
    "\n",
    "cos_sim_matrix = cosine_similarity(embeddings)\n",
    "\n",
    "sns.heatmap(cos_sim_matrix, annot=True, cmap='coolwarm', xticklabels=sentences, yticklabels=sentences)"
   ]
  },
  {
   "cell_type": "code",
   "execution_count": null,
   "id": "f4a63927-ac80-4c37-8805-1f56a1df6ca5",
   "metadata": {},
   "outputs": [],
   "source": []
  },
  {
   "cell_type": "markdown",
   "id": "b4c9cc7b-97e1-4d37-b9a6-fb200be494d9",
   "metadata": {},
   "source": [
    "## Store the Embeddings/Chunks\n",
    "\n",
    "See [here](https://python.langchain.com/docs/integrations/vectorstores/chroma/) for the detailed API of the Chroma vector store (e.g. how to add/update documents)."
   ]
  },
  {
   "cell_type": "code",
   "execution_count": 17,
   "id": "c479d7e0-7071-4489-aa32-f18afaabae1a",
   "metadata": {},
   "outputs": [],
   "source": [
    "# cleanup (in case of re-execution to prevent duplicate entries)\n",
    "!rm -rf chroma_db"
   ]
  },
  {
   "cell_type": "markdown",
   "id": "f7464f0b-783c-4991-9f08-441bb15be8dc",
   "metadata": {},
   "source": [
    "<font color='red'>**Task: Setup the Chroma vectorstore (see above for interesting links).**</font>"
   ]
  },
  {
   "cell_type": "code",
   "execution_count": 18,
   "id": "e2dec384-9f36-4104-a42c-9d3156b2d3d4",
   "metadata": {},
   "outputs": [],
   "source": [
    "from langchain.vectorstores import Chroma\n",
    "\n",
    "vectorstore = Chroma.from_documents(\n",
    "    ...\n",
    "    persist_directory=\"chroma_db\")\n",
    "\n",
    "# alternative without additional dependencies (but not recommended for production)\n",
    "# see https://python.langchain.com/api_reference/core/vectorstores/langchain_core.vectorstores.in_memory.InMemoryVectorStore.html#inmemoryvectorstore\n",
    "#from langchain_core.vectorstores import InMemoryVectorStore\n",
    "#vectorstore = InMemoryVectorStore(embedder)\n",
    "#vectorstore.add_documents(documents=all_splits)"
   ]
  },
  {
   "cell_type": "markdown",
   "id": "ab19ec82-dc61-4eb1-877c-35b343a12fd3",
   "metadata": {},
   "source": [
    "## Setup the Retriever\n",
    "\n",
    "Let's test the retriever... see [here](https://python.langchain.com/docs/concepts/vectorstores/) and [here](https://python.langchain.com/docs/how_to/vectorstore_retriever/) for details."
   ]
  },
  {
   "cell_type": "markdown",
   "id": "dfb1f058-ca5e-45b7-ad0e-8a110d8b0afa",
   "metadata": {},
   "source": [
    "<font color='red'>**Task: Setup the retriever. You might want to use Maximal Marginal Relevance (MMR) which attempts to diversify the results of a search to avoid returning similar and redundant documents (see above for interesting links).**</font>"
   ]
  },
  {
   "cell_type": "code",
   "execution_count": 19,
   "id": "9b345d39-3b7f-4900-89cf-5b6df1148119",
   "metadata": {},
   "outputs": [],
   "source": [
    "retriever = ...\n",
    "\n",
    "retrieved_docs = retriever.invoke(\"What are the lunch specials on Tuesday?\")"
   ]
  },
  {
   "cell_type": "code",
   "execution_count": 20,
   "id": "61e41468-b10e-49cc-af96-b133926432e3",
   "metadata": {},
   "outputs": [
    {
     "name": "stdout",
     "output_type": "stream",
     "text": [
      "0 Chunk: \n",
      "\n",
      "page_content='The Regrettable Experience – Week specials  Monday Lunch Specials • Soup of the Day: Hearty Lentil Soup (Vegetarian/Vegan)  • Salad: Grilled Chicken Caesar Salad  Allergens: Dairy (in dressing), Gluten (in croutons), Eggs (in dressing)  • Sandwich: BLT Wrap with Avocado  Allergens: Gluten (in wrap)  Tuesday Lunch Special  • Soup of the Day: Creamy Tomato Basil (Vegetarian)  Allergens: Dairy  • Salad: Strawberry Spinach Salad with Balsamic Vinaigrette  Allergens: Potential Tree Nuts (in vinaigrette)  Quiche: Broccoli and Cheddar Quiche  Allergens: Dairy, Eggs, Gluten (in crust)  Wednesday Lunch Special  • Soup of the Day: Chicken Tortilla Soup  Allergens: Dairy, Gluten (in tortilla strips)  • Salad: Greek Salad with Feta and Olives  Allergens: Dairy (in feta)  • Flatbread: Margherita Flatbread  Allergens: Dairy, Gluten  Thursday Lunch Special  • Soup of the Day: Black Bean Soup (Vegetarian/Vegan)  • Salad: Southwest Chicken Salad with Avocado Ranch  Allergens: Dairy (in dressing), Eggs (in dressing)  • Sandwich: Turkey Bacon Avocado Melt  Allergens: Dairy, Gluten (in bread)  Friday Lunch Special  • Soup of the Day: New England Clam Chowder  Allergens: Dairy, Shellfish' metadata={'producer': 'macOS Version 14.4.1 (Build 23E224) Quartz PDFContext', 'moddate': \"D:20240515054455Z00'00'\", 'creationdate': \"D:20240515054455Z00'00'\", 'page_label': '1', 'page': 0, 'total_pages': 2, 'source': 'data/pdfs/Menu_Week_Specials.pdf', 'creator': 'PyPDF'}\n",
      "---------------------------------------------------------------------------------------------------- \n",
      "\n",
      "\n",
      "1 Chunk: \n",
      "\n",
      "page_content='• Salad: BBQ Chicken Salad with Ranch  Allergens: Dairy (in dressing), Eggs (in dressing)  • Burger: Black Bean Veggie Burger with Sweet Potato Fries  Allergens: Gluten (in bun), Soy (in veggie patty)   Please let your server know about any food allergies or dietary restrictions.' metadata={'total_pages': 2, 'creationdate': \"D:20240515054455Z00'00'\", 'creator': 'PyPDF', 'producer': 'macOS Version 14.4.1 (Build 23E224) Quartz PDFContext', 'page_label': '2', 'moddate': \"D:20240515054455Z00'00'\", 'page': 1, 'source': 'data/pdfs/Menu_Week_Specials.pdf'}\n",
      "---------------------------------------------------------------------------------------------------- \n",
      "\n",
      "\n",
      "2 Chunk: \n",
      "\n",
      "page_content='●\n",
      "●\n",
      "Description: Grilled sirloin steak seasoned with garlic butter, accompanied by loaded mashed potatoes and sautéed\n",
      "vegetables.\n",
      "\n",
      "Allergens: Dairy (in garlic butter), potential Soy (in marinade).\n",
      "\n",
      "5.\n",
      "\n",
      "VEGETABLE STIR-FRY WITH TOFU\n",
      "●\n",
      "●\n",
      "Description: Stir-fried tofu and a colorful medley of vegetables in a savory soy-ginger sauce, served over jasmine rice.\n",
      "\n",
      "Allergens: Soy (in tofu and sauce).\n",
      "\n",
      "Desserts:\n",
      "1.\n",
      "\n",
      "CLASSIC NEW YORK CHEESECAKE\n",
      "●\n",
      "●\n",
      "Description: Creamy cheesecake with a graham cracker crust, topped with a choice of fruit compote or chocolate\n",
      "ganache.\n",
      "\n",
      "Allergens: Dairy (in cheesecake), Gluten (in the crust).\n",
      "\n",
      "2.\n",
      "\n",
      "APPLE PIE A LA MODE\n",
      "●\n",
      "●\n",
      "Description: Warm apple pie with a flaky crust, served with a scoop of vanilla ice cream and a drizzle of caramel sauce.\n",
      "\n",
      "Allergens: Dairy (in ice cream), Gluten (in pie crust).\n",
      "\n",
      "3.\n",
      "\n",
      "CHOCOLATE LAVA CAKE\n",
      "●\n",
      "●\n",
      "Description: Rich and gooey chocolate cake with a molten center, dusted with powdered sugar and served with a\n",
      "scoop of raspberry sorbet.\n",
      "\n",
      "Allergens: Dairy (in cake), possible Gluten (depending on recipe), potential Soy (in chocolate).\n",
      "\n",
      "4.\n",
      "\n",
      "PECAN PIE BARS\n",
      "●\n",
      "●\n",
      "Description: Buttery shortbread crust topped with a gooey pecan filling, cut into bars for easy serving.\n",
      "\n",
      "Allergens: Dairy (in crust), Nuts (in pecan filling), Gluten (in crust).\n",
      "\n",
      "5.\n",
      "\n",
      "BANANA PUDDING PARFAIT\n",
      "●\n",
      "●\n",
      "Description: Layers of vanilla pudding, sliced bananas, and vanilla wafers, topped with whipped cream and a sprinkle\n",
      "of crushed nuts.\n",
      "\n",
      "Allergens: Dairy (in pudding), Gluten (in wafers).' metadata={'total_pages': 2, 'creationdate': '2023-11-29T13:55:52+00:00', 'page_label': '2', 'source': 'data/pdfs/Menu_Dinner.pdf', 'page': 1, 'moddate': '2023-11-29T13:55:52+00:00', 'creator': 'Chromium', 'producer': 'Skia/PDF m119'}\n",
      "---------------------------------------------------------------------------------------------------- \n",
      "\n",
      "\n"
     ]
    }
   ],
   "source": [
    "for idx, retrieved_doc in enumerate(retrieved_docs):\n",
    "    print(idx, \"Chunk: \\n\")\n",
    "    print(retrieved_doc)\n",
    "    print(\"-\"*100, \"\\n\\n\")"
   ]
  },
  {
   "cell_type": "markdown",
   "id": "3602d677-a4b9-4a38-ae54-dd1f17ef5980",
   "metadata": {},
   "source": [
    "### Improve Retrieval with a Reranker [Optional]\n",
    "\n",
    "RAG performs a semantic search across many text documents (up to billions of documents). We typically use vector search to ensure fast search times (i.e. we transform text into vector space and compare their proximity to a query vector using a similarity metric like cosine similarity). \n",
    "\n",
    "These vectors are essentially compressions of the \"meaning\" behind the text. Compressing this information into a single vector results in information loss. Due to this information loss, we often see that the top three (for example) returned documents will miss relevant information (i.e. the retriever would only return relevant information below our top_k cutoff).\n",
    "\n",
    "Why not just increasing the top_k cutoff and stuff more into the LLM? Unfortunately, we cannot return everything. LLMs have limits on how much text they can process. Even though some LLMs have huge context windows (like e.g. 100K tokens), research shows that the recall of LLMs degrades as we put more tokens in the context window. Additionally, LLMs are also less likely to follow instructions as we stuff the context window — so context stuffing is a bad idea.\n",
    "\n",
    "A reranker is a type of model that outputs a similarity score from a query and document pair. As such, a reranker is much more accurate than embedding models (but way slower). This score is then used to reorder the documents by relevance to the query. \n",
    "\n",
    "We basically build a two-stage system. In a first stage, an embedding model/retriever retrieves a set of relevant documents from a larger dataset (which is fast). In a second stage, the reranker is used to rerank those documents retrieved by the first stage (which is more accurate). This reduced set is then forwarded to the LLM.\n",
    "\n",
    "Read [here](https://www.pinecone.io/learn/series/rag/rerankers/) and [here](https://python.langchain.com/docs/integrations/document_transformers/cross_encoder_reranker/) about Rerankers...\n",
    "\n",
    "<img src=\"https://drive.switch.ch/index.php/s/taFGr7Cb7hTQ78S/download\" alt=\"Reranker\">"
   ]
  },
  {
   "cell_type": "code",
   "execution_count": 21,
   "id": "f0fc04d9-dffa-41f1-93d5-360341ad1c72",
   "metadata": {},
   "outputs": [],
   "source": [
    "use_reranker = True"
   ]
  },
  {
   "cell_type": "code",
   "execution_count": 22,
   "id": "45222851-873b-4096-9d01-89f34c852afe",
   "metadata": {},
   "outputs": [
    {
     "name": "stderr",
     "output_type": "stream",
     "text": [
      "2025-05-31 10:52:07.174552: E external/local_xla/xla/stream_executor/cuda/cuda_fft.cc:467] Unable to register cuFFT factory: Attempting to register factory for plugin cuFFT when one has already been registered\n",
      "WARNING: All log messages before absl::InitializeLog() is called are written to STDERR\n",
      "E0000 00:00:1748688727.190385   60748 cuda_dnn.cc:8579] Unable to register cuDNN factory: Attempting to register factory for plugin cuDNN when one has already been registered\n",
      "E0000 00:00:1748688727.195238   60748 cuda_blas.cc:1407] Unable to register cuBLAS factory: Attempting to register factory for plugin cuBLAS when one has already been registered\n",
      "W0000 00:00:1748688727.207432   60748 computation_placer.cc:177] computation placer already registered. Please check linkage and avoid linking the same target more than once.\n",
      "W0000 00:00:1748688727.207447   60748 computation_placer.cc:177] computation placer already registered. Please check linkage and avoid linking the same target more than once.\n",
      "W0000 00:00:1748688727.207449   60748 computation_placer.cc:177] computation placer already registered. Please check linkage and avoid linking the same target more than once.\n",
      "W0000 00:00:1748688727.207450   60748 computation_placer.cc:177] computation placer already registered. Please check linkage and avoid linking the same target more than once.\n",
      "2025-05-31 10:52:07.211392: I tensorflow/core/platform/cpu_feature_guard.cc:210] This TensorFlow binary is optimized to use available CPU instructions in performance-critical operations.\n",
      "To enable the following instructions: AVX2 FMA, in other operations, rebuild TensorFlow with the appropriate compiler flags.\n"
     ]
    }
   ],
   "source": [
    "from langchain.retrievers import ContextualCompressionRetriever\n",
    "from langchain.retrievers.document_compressors import CrossEncoderReranker\n",
    "from langchain_community.cross_encoders import HuggingFaceCrossEncoder\n",
    "\n",
    "if use_reranker:\n",
    "    model = HuggingFaceCrossEncoder(model_name=\"BAAI/bge-reranker-base\")\n",
    "    compressor = CrossEncoderReranker(model=model, top_n=2)\n",
    "    compression_retriever = ContextualCompressionRetriever(\n",
    "        base_compressor=compressor, base_retriever=retriever\n",
    "    )"
   ]
  },
  {
   "cell_type": "code",
   "execution_count": 23,
   "id": "568edec6-2bf6-4e83-8e56-848ad011807f",
   "metadata": {},
   "outputs": [
    {
     "name": "stdout",
     "output_type": "stream",
     "text": [
      "0 Chunk: \n",
      "\n",
      "page_content='The Regrettable Experience – Week specials  Monday Lunch Specials • Soup of the Day: Hearty Lentil Soup (Vegetarian/Vegan)  • Salad: Grilled Chicken Caesar Salad  Allergens: Dairy (in dressing), Gluten (in croutons), Eggs (in dressing)  • Sandwich: BLT Wrap with Avocado  Allergens: Gluten (in wrap)  Tuesday Lunch Special  • Soup of the Day: Creamy Tomato Basil (Vegetarian)  Allergens: Dairy  • Salad: Strawberry Spinach Salad with Balsamic Vinaigrette  Allergens: Potential Tree Nuts (in vinaigrette)  Quiche: Broccoli and Cheddar Quiche  Allergens: Dairy, Eggs, Gluten (in crust)  Wednesday Lunch Special  • Soup of the Day: Chicken Tortilla Soup  Allergens: Dairy, Gluten (in tortilla strips)  • Salad: Greek Salad with Feta and Olives  Allergens: Dairy (in feta)  • Flatbread: Margherita Flatbread  Allergens: Dairy, Gluten  Thursday Lunch Special  • Soup of the Day: Black Bean Soup (Vegetarian/Vegan)  • Salad: Southwest Chicken Salad with Avocado Ranch  Allergens: Dairy (in dressing), Eggs (in dressing)  • Sandwich: Turkey Bacon Avocado Melt  Allergens: Dairy, Gluten (in bread)  Friday Lunch Special  • Soup of the Day: New England Clam Chowder  Allergens: Dairy, Shellfish' metadata={'page_label': '1', 'creationdate': \"D:20240515054455Z00'00'\", 'page': 0, 'producer': 'macOS Version 14.4.1 (Build 23E224) Quartz PDFContext', 'moddate': \"D:20240515054455Z00'00'\", 'source': 'data/pdfs/Menu_Week_Specials.pdf', 'creator': 'PyPDF', 'total_pages': 2}\n",
      "---------------------------------------------------------------------------------------------------- \n",
      "\n",
      "\n",
      "1 Chunk: \n",
      "\n",
      "page_content='●\n",
      "●\n",
      "Description: Grilled sirloin steak seasoned with garlic butter, accompanied by loaded mashed potatoes and sautéed\n",
      "vegetables.\n",
      "\n",
      "Allergens: Dairy (in garlic butter), potential Soy (in marinade).\n",
      "\n",
      "5.\n",
      "\n",
      "VEGETABLE STIR-FRY WITH TOFU\n",
      "●\n",
      "●\n",
      "Description: Stir-fried tofu and a colorful medley of vegetables in a savory soy-ginger sauce, served over jasmine rice.\n",
      "\n",
      "Allergens: Soy (in tofu and sauce).\n",
      "\n",
      "Desserts:\n",
      "1.\n",
      "\n",
      "CLASSIC NEW YORK CHEESECAKE\n",
      "●\n",
      "●\n",
      "Description: Creamy cheesecake with a graham cracker crust, topped with a choice of fruit compote or chocolate\n",
      "ganache.\n",
      "\n",
      "Allergens: Dairy (in cheesecake), Gluten (in the crust).\n",
      "\n",
      "2.\n",
      "\n",
      "APPLE PIE A LA MODE\n",
      "●\n",
      "●\n",
      "Description: Warm apple pie with a flaky crust, served with a scoop of vanilla ice cream and a drizzle of caramel sauce.\n",
      "\n",
      "Allergens: Dairy (in ice cream), Gluten (in pie crust).\n",
      "\n",
      "3.\n",
      "\n",
      "CHOCOLATE LAVA CAKE\n",
      "●\n",
      "●\n",
      "Description: Rich and gooey chocolate cake with a molten center, dusted with powdered sugar and served with a\n",
      "scoop of raspberry sorbet.\n",
      "\n",
      "Allergens: Dairy (in cake), possible Gluten (depending on recipe), potential Soy (in chocolate).\n",
      "\n",
      "4.\n",
      "\n",
      "PECAN PIE BARS\n",
      "●\n",
      "●\n",
      "Description: Buttery shortbread crust topped with a gooey pecan filling, cut into bars for easy serving.\n",
      "\n",
      "Allergens: Dairy (in crust), Nuts (in pecan filling), Gluten (in crust).\n",
      "\n",
      "5.\n",
      "\n",
      "BANANA PUDDING PARFAIT\n",
      "●\n",
      "●\n",
      "Description: Layers of vanilla pudding, sliced bananas, and vanilla wafers, topped with whipped cream and a sprinkle\n",
      "of crushed nuts.\n",
      "\n",
      "Allergens: Dairy (in pudding), Gluten (in wafers).' metadata={'page': 1, 'creationdate': '2023-11-29T13:55:52+00:00', 'source': 'data/pdfs/Menu_Dinner.pdf', 'producer': 'Skia/PDF m119', 'moddate': '2023-11-29T13:55:52+00:00', 'page_label': '2', 'creator': 'Chromium', 'total_pages': 2}\n",
      "---------------------------------------------------------------------------------------------------- \n",
      "\n",
      "\n"
     ]
    }
   ],
   "source": [
    "if use_reranker:\n",
    "    retrieved_docs = compression_retriever.invoke(\"What are the lunch specials on Tuesday?\")\n",
    "    \n",
    "    for idx, retrieved_doc in enumerate(retrieved_docs):\n",
    "        print(idx, \"Chunk: \\n\")\n",
    "        print(retrieved_doc)\n",
    "        print(\"-\"*100, \"\\n\\n\")"
   ]
  },
  {
   "cell_type": "code",
   "execution_count": 24,
   "id": "771e20d8-639f-4882-8b29-add2b622ba04",
   "metadata": {},
   "outputs": [],
   "source": [
    "if use_reranker:\n",
    "    retriever = compression_retriever"
   ]
  },
  {
   "cell_type": "markdown",
   "id": "c9274a3b-ffce-4ef3-8a8e-8068e1168213",
   "metadata": {},
   "source": [
    "### Build Retrieval and Generation \n",
    "\n",
    "<img src=\"https://drive.switch.ch/index.php/s/0VUddvuY0U9e9Tj/download\" alt=\"RAG Retrieval Generation\">\n",
    "Illustration of the retrieval and generation process."
   ]
  },
  {
   "cell_type": "markdown",
   "id": "4343cf13-766d-4ca4-8bbc-db9ce9cb0b53",
   "metadata": {},
   "source": [
    "Let's use Ollama..."
   ]
  },
  {
   "cell_type": "code",
   "execution_count": 25,
   "id": "1dd3c65e-ee1e-4a36-8afe-321369e563bd",
   "metadata": {},
   "outputs": [],
   "source": [
    "from langchain_openai import ChatOpenAI"
   ]
  },
  {
   "cell_type": "code",
   "execution_count": 26,
   "id": "5969b086-0490-4167-9dfd-b844cb0f1181",
   "metadata": {},
   "outputs": [],
   "source": [
    "MODEL_TEXT = \"qwen3:4b\"\n",
    "\n",
    "llm = ChatOpenAI(\n",
    "    model=MODEL_TEXT,\n",
    "    api_key=\"ollama\",\n",
    "    base_url=OPENAI_BASE_URL,\n",
    ")"
   ]
  },
  {
   "cell_type": "code",
   "execution_count": null,
   "id": "56720f90-f87a-4593-8af5-e2afaf82b682",
   "metadata": {},
   "outputs": [],
   "source": []
  },
  {
   "cell_type": "markdown",
   "id": "f1fd86c6-8430-43e6-a780-11de0267f189",
   "metadata": {},
   "source": [
    "Alternatively, there are also [HuggingFacePipeline](https://python.langchain.com/docs/integrations/llms/huggingface_pipelines/) and [HuggingFaceChat](https://python.langchain.com/api_reference/huggingface/chat_models/langchain_huggingface.chat_models.huggingface.ChatHuggingFace.html#langchain_huggingface.chat_models.huggingface.ChatHuggingFace) bindings which allow for accessing the LLM directly from your code... but it seems there is a [bug](https://github.com/langchain-ai/langchain/pull/25136). "
   ]
  },
  {
   "cell_type": "code",
   "execution_count": 27,
   "id": "7b76145f-750d-4268-8882-ea363f39fe8e",
   "metadata": {},
   "outputs": [],
   "source": [
    "#import transformers\n",
    "#import torch\n",
    "#from langchain_huggingface import HuggingFacePipeline, ChatHuggingFace\n",
    "#from langchain_core.messages import HumanMessage, SystemMessage\n",
    "\n",
    "#model_id_llm = \"NousResearch/Meta-Llama-3.1-8B-Instruct\"\n",
    "\n",
    "#pipeline = transformers.pipeline(\n",
    "#    \"text-generation\",\n",
    "#    model=model_id_llm,\n",
    "#    model_kwargs={\n",
    "#        \"torch_dtype\": torch.bfloat16,\n",
    "#        \"quantization_config\": {\"load_in_4bit\": True}\n",
    "#    },\n",
    "#    device_map=\"auto\",\n",
    "#    max_new_tokens=256,\n",
    "#    do_sample=True,\n",
    "#    top_k=500, \n",
    "#    top_p=0.8,\n",
    "#    temperature=0.7,\n",
    "#)\n",
    "\n",
    "#llm_pipe = HuggingFacePipeline(pipeline=pipeline)\n",
    "#llm = ChatHuggingFace(llm=llm_pipe, model_id=model_id_llm)\n",
    "\n",
    "#messages = [\n",
    "#    SystemMessage(content=\"You are a helpful assistant.\"),\n",
    "#    HumanMessage(content=\"What happens when an unstoppable force meets an immovable object?\"),\n",
    "#]\n",
    "\n",
    "## see also https://www.kaggle.com/code/kingabzpro/accessing-the-llama-3-2-lightweight-models\n",
    "##llm_response = llm_pipe.invoke(messages)\n",
    "#llm_response = llm.invoke(messages)\n",
    "\n",
    "#print(llm_response)"
   ]
  },
  {
   "cell_type": "code",
   "execution_count": 28,
   "id": "51352900-ade4-4215-ac91-22fc25a18f6d",
   "metadata": {},
   "outputs": [],
   "source": [
    "# Convert loaded documents into strings by concatenating their content\n",
    "# and ignoring metadata\n",
    "def format_docs(docs):\n",
    "    return \"\\n\\n\".join(doc.page_content for doc in docs)"
   ]
  },
  {
   "cell_type": "code",
   "execution_count": 29,
   "id": "03685bef-3c2e-4ce6-bbdd-958e4bdfeceb",
   "metadata": {},
   "outputs": [
    {
     "name": "stdout",
     "output_type": "stream",
     "text": [
      "<think>\n",
      "\n",
      "</think>\n",
      "\n",
      "The entrees in the children's menu are: Chicken Nuggets, Macaroni and Cheese, Mini Cheese Quesadillas, Peanut Butter and Banana Sandwich, and Veggie Pita Pockets.\n"
     ]
    }
   ],
   "source": [
    "from langchain_core.output_parsers import StrOutputParser\n",
    "from langchain_core.prompts import ChatPromptTemplate\n",
    "from langchain_core.runnables import RunnablePassthrough\n",
    "\n",
    "RAG_TEMPLATE = \"\"\"\n",
    "You are an assistant for question-answering tasks. Use the following pieces of retrieved context to answer the question. If you don't know the answer, just say that you don't know. Use three sentences maximum and keep the answer concise. /no_think\n",
    "\n",
    "<context>\n",
    "{context}\n",
    "</context>\n",
    "\n",
    "Answer the following question:\n",
    "\n",
    "{question}\"\"\"\n",
    "\n",
    "# Prompt Template: https://python.langchain.com/docs/concepts/prompt_templates/\n",
    "rag_prompt = ChatPromptTemplate.from_template(RAG_TEMPLATE)\n",
    "\n",
    "# LangChain Expression Language: https://python.langchain.com/docs/concepts/lcel/\n",
    "chain = (\n",
    "    RunnablePassthrough.assign(context=lambda input: format_docs(input[\"context\"]))\n",
    "    | rag_prompt\n",
    "    | llm\n",
    "    | StrOutputParser()\n",
    ")\n",
    "\n",
    "question = \"What are the entrees in the children's menu?\"\n",
    "\n",
    "docs = vectorstore.similarity_search(question)\n",
    "\n",
    "# Run\n",
    "response = chain.invoke({\"context\": docs, \"question\": question})\n",
    "\n",
    "print(response)"
   ]
  },
  {
   "cell_type": "markdown",
   "id": "f286a557-8c0d-465c-a093-cc3fe76466d0",
   "metadata": {},
   "source": [
    "or directly using the chain..."
   ]
  },
  {
   "cell_type": "code",
   "execution_count": 30,
   "id": "6ed0fa7d-9a18-4430-881f-8b78d1cdc358",
   "metadata": {},
   "outputs": [],
   "source": [
    "qa_chain = (\n",
    "    {\"context\": retriever | format_docs, \"question\": RunnablePassthrough()}\n",
    "    | rag_prompt\n",
    "    | llm\n",
    "    | StrOutputParser()\n",
    ")"
   ]
  },
  {
   "cell_type": "code",
   "execution_count": 31,
   "id": "2d7af9dc-8e02-4499-ac42-cc08ab9c8b8e",
   "metadata": {},
   "outputs": [
    {
     "name": "stdout",
     "output_type": "stream",
     "text": [
      "<think>\n",
      "\n",
      "</think>\n",
      "\n",
      "The entrees in the children's menu are: Chicken Nuggets, Macaroni and Cheese, Mini Cheese Quesadillas, Peanut Butter and Banana Sandwich, and Veggie Pita Pockets.\n"
     ]
    }
   ],
   "source": [
    "question = \"What are the entrees in the children's menu?\"\n",
    "response = qa_chain.invoke(question)\n",
    "print(response)"
   ]
  },
  {
   "cell_type": "code",
   "execution_count": 32,
   "id": "eb9f7985-3863-48e7-bb54-1264c0209bdf",
   "metadata": {},
   "outputs": [
    {
     "name": "stdout",
     "output_type": "stream",
     "text": [
      "<think>\n",
      "\n",
      "</think>\n",
      "\n",
      "The vegetarian options in the children's menu are: MACARONI AND CHEESE, MINI CHEESE QUESADILLAS, PEANUT BUTTER AND BANANA SANDWICH (if using vegetarian peanut butter), and VEGGIE PITA POCKETS. The MAINS include FISH STICKS and MINI CHEESEBURGERS, but they are not suitable for vegetarians. There is also a Salad: BBQ Chicken Salad with Ranch and a Burger: Black Bean Veggie Burger with Sweet Potato Fries, but the latter has allergens.\n"
     ]
    }
   ],
   "source": [
    "question = \"What vegetarian options are in the children's menu?\"\n",
    "response = qa_chain.invoke(question)\n",
    "print(response)"
   ]
  },
  {
   "cell_type": "code",
   "execution_count": 33,
   "id": "05a3e2c1-9027-4707-94c8-dc5d37d8eb3c",
   "metadata": {},
   "outputs": [
    {
     "name": "stdout",
     "output_type": "stream",
     "text": [
      "<think>\n",
      "\n",
      "</think>\n",
      "\n",
      "The Monday lunch special includes a Hearty Lentil Soup (Vegetarian/Vegan), a Grilled Chicken Caesar Salad, and a BLT Wrap with Avocado. Allergens for these items include Dairy (in dressing), Gluten (in croutons), Eggs (in dressing), and Gluten (in wrap).\n"
     ]
    }
   ],
   "source": [
    "question = \"What are the week specials for lunch on Monday?\"\n",
    "response = qa_chain.invoke(question)\n",
    "print(response)"
   ]
  },
  {
   "cell_type": "markdown",
   "id": "c5aef853-dbaa-416e-a523-2bfccc5b0c08",
   "metadata": {},
   "source": [
    "Let's try a different language (the model should be multimodal)."
   ]
  },
  {
   "cell_type": "code",
   "execution_count": 34,
   "id": "952e9815-3054-474a-9ce9-81410764c20a",
   "metadata": {},
   "outputs": [
    {
     "name": "stdout",
     "output_type": "stream",
     "text": [
      "<think>\n",
      "\n",
      "</think>\n",
      "\n",
      "Ich weiß nicht, was die Wochenhits am Montag sind. Die gegebene Kontextinformation ist nicht relevant für diese Frage.\n"
     ]
    }
   ],
   "source": [
    "question = \"Was sind die Wochenhits am Montag?\"\n",
    "response = qa_chain.invoke(question)\n",
    "print(response)"
   ]
  },
  {
   "cell_type": "code",
   "execution_count": null,
   "id": "95a02dfc-855c-4efc-921f-22f667fb4866",
   "metadata": {},
   "outputs": [],
   "source": []
  },
  {
   "cell_type": "markdown",
   "id": "9b4e9584-82a7-4298-91f0-3e29a1693d47",
   "metadata": {},
   "source": [
    "<font color='red'>**Task: What could be the reason that German does not work even though the LLM is multilingual?**</font>\n",
    "\n",
    "Does the retriever support German (see [here](https://huggingface.co/BAAI/bge-reranker-base) - you might want to re-try with `MODEL_EMBEDDING = \"bge-m3\"` and `use_reranker = False`)? \n",
    "\n",
    "Furthermore, you might want to set [debug/verbose](https://python.langchain.com/docs/how_to/debugging/#set_debug-and-set_verbose) to see what is going on under the hood. "
   ]
  },
  {
   "cell_type": "markdown",
   "id": "374df60e-3225-4966-b69d-99ac7fc46687",
   "metadata": {},
   "source": [
    "<font color='red'>**Task: Try different questions.**</font>"
   ]
  },
  {
   "cell_type": "markdown",
   "id": "ae1bc6ef-5fd3-45c7-9b66-2403b7c39cdc",
   "metadata": {},
   "source": [
    "<font color='red'>**Task: Try to improve the RAG_TEMPLATE (the current seems to be quite generic).**</font>"
   ]
  },
  {
   "cell_type": "code",
   "execution_count": null,
   "id": "cf6ae37b-f94e-4874-ab24-8487217d72ab",
   "metadata": {},
   "outputs": [],
   "source": []
  },
  {
   "cell_type": "markdown",
   "id": "22664236-88f2-4cb2-bf27-d79499041bb0",
   "metadata": {},
   "source": [
    "## Next Steps\n",
    "\n",
    "- Allow the LLM to remember your conversation by adding a [chat history](https://python.langchain.com/docs/tutorials/qa_chat_history/)\n",
    "- Allow the LLM to answer questions by [retrieving information from the web](https://python.langchain.com/docs/integrations/tools/ddg/)\n",
    "- Allow the LLM to [call tools](https://js.langchain.com/docs/how_to/tool_calling/) (e.g. to make reservations in your restaurant or [query the weather for specific locations](https://python.langchain.com/docs/tutorials/agents/))"
   ]
  },
  {
   "cell_type": "code",
   "execution_count": null,
   "id": "8608d71f-1d01-4bae-95f2-9f630ee936e7",
   "metadata": {},
   "outputs": [],
   "source": []
  }
 ],
 "metadata": {
  "kernelspec": {
   "display_name": "Python 3 (ipykernel)",
   "language": "python",
   "name": "python3"
  },
  "language_info": {
   "codemirror_mode": {
    "name": "ipython",
    "version": 3
   },
   "file_extension": ".py",
   "mimetype": "text/x-python",
   "name": "python",
   "nbconvert_exporter": "python",
   "pygments_lexer": "ipython3",
   "version": "3.11.13"
  }
 },
 "nbformat": 4,
 "nbformat_minor": 5
}
